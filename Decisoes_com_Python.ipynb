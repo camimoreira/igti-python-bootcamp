{
  "nbformat": 4,
  "nbformat_minor": 0,
  "metadata": {
    "colab": {
      "name": "Decisoes_com_Python.ipynb",
      "provenance": [],
      "authorship_tag": "ABX9TyMbxi16OJDH6E4/I6UNTdBL",
      "include_colab_link": true
    },
    "kernelspec": {
      "name": "python3",
      "display_name": "Python 3"
    }
  },
  "cells": [
    {
      "cell_type": "markdown",
      "metadata": {
        "id": "view-in-github",
        "colab_type": "text"
      },
      "source": [
        "<a href=\"https://colab.research.google.com/github/camimoreira/igti-python-bootcamp/blob/master/Decisoes_com_Python.ipynb\" target=\"_parent\"><img src=\"https://colab.research.google.com/assets/colab-badge.svg\" alt=\"Open In Colab\"/></a>"
      ]
    },
    {
      "cell_type": "code",
      "metadata": {
        "id": "KkVRmII-k85D",
        "colab_type": "code",
        "colab": {
          "base_uri": "https://localhost:8080/",
          "height": 68
        },
        "outputId": "e0881e28-e4bb-4aac-8884-06b8f43b34e8"
      },
      "source": [
        "#if\n",
        "#exmplo\n",
        "numero = float(input(\"Entre com um numero:\"))\n",
        "if numero%2==0: #valida se o resto da divisao é zero\n",
        "  print(\"Este é um numero par\")\n",
        "print(\"Execução após o if...\")"
      ],
      "execution_count": 3,
      "outputs": [
        {
          "output_type": "stream",
          "text": [
            "Entre com um numero:10\n",
            "Este é um numero par\n",
            "Execução após o if...\n"
          ],
          "name": "stdout"
        }
      ]
    },
    {
      "cell_type": "code",
      "metadata": {
        "id": "aBH6cframd3W",
        "colab_type": "code",
        "colab": {
          "base_uri": "https://localhost:8080/",
          "height": 68
        },
        "outputId": "1e52cc1e-6a82-46ec-903c-e9e1149a5e38"
      },
      "source": [
        "numero = float(input(\"Entre com um numero:\"))\n",
        "if numero > 0:\n",
        "  print(\"Esse numero é positivo\")\n",
        "print(\"Execução após o if...\")"
      ],
      "execution_count": 5,
      "outputs": [
        {
          "output_type": "stream",
          "text": [
            "Entre com um numero:5\n",
            "Esse numero é positivo\n",
            "Execução após o if...\n"
          ],
          "name": "stdout"
        }
      ]
    },
    {
      "cell_type": "code",
      "metadata": {
        "id": "B_Ecj8D5olOi",
        "colab_type": "code",
        "colab": {
          "base_uri": "https://localhost:8080/",
          "height": 34
        },
        "outputId": "5eff6a81-d50e-4455-ebd8-07fe3a5835ce"
      },
      "source": [
        "i = 10\n",
        "if (i > 15):\n",
        "  print(\"10 é maior que 15\")\n",
        "print(\"Continuando...\")"
      ],
      "execution_count": 7,
      "outputs": [
        {
          "output_type": "stream",
          "text": [
            "Continuando...\n"
          ],
          "name": "stdout"
        }
      ]
    },
    {
      "cell_type": "code",
      "metadata": {
        "id": "kDwQ_KeRou8f",
        "colab_type": "code",
        "colab": {
          "base_uri": "https://localhost:8080/",
          "height": 85
        },
        "outputId": "3901b50d-93a6-480c-e906-9bc9faf85501"
      },
      "source": [
        "#if-else\n",
        "numero = float(input(\"Entre com um numero:\"))\n",
        "if numero%2==0: #valida se o resto da divisao é zero\n",
        "  print(\"Este é um numero par\\n\")\n",
        "else:\n",
        "  print(\"Esse é um numero impar\\n\")\n",
        "print(\"Execução após o if...\")"
      ],
      "execution_count": 9,
      "outputs": [
        {
          "output_type": "stream",
          "text": [
            "Entre com um numero:10\n",
            "Este é um numero par\n",
            "\n",
            "Execução após o if...\n"
          ],
          "name": "stdout"
        }
      ]
    },
    {
      "cell_type": "code",
      "metadata": {
        "id": "OeOXUHfUpO3d",
        "colab_type": "code",
        "colab": {
          "base_uri": "https://localhost:8080/",
          "height": 51
        },
        "outputId": "b339224b-86c4-4771-f588-1e9f883f499e"
      },
      "source": [
        "i = 20\n",
        "if (i < 15):\n",
        "  print(\"i é menor que 15\")\n",
        "else:\n",
        "  print(\"i é maior que 15\")\n",
        "print(\"Continuando...\")"
      ],
      "execution_count": 11,
      "outputs": [
        {
          "output_type": "stream",
          "text": [
            "i é maior que 15\n",
            "Continuando...\n"
          ],
          "name": "stdout"
        }
      ]
    },
    {
      "cell_type": "code",
      "metadata": {
        "id": "7_XExlySpryl",
        "colab_type": "code",
        "colab": {
          "base_uri": "https://localhost:8080/",
          "height": 68
        },
        "outputId": "24043b2d-cd65-4d99-ccfe-a1eabde1e95c"
      },
      "source": [
        "#encontrando o maior valor entre dois numeros\n",
        "x = int(input(\"Entre o primeiro numero:\"))\n",
        "y = int(input(\"Entre o segundo numero:\"))\n",
        "if (x>y):\n",
        "  print(\"O primeiro valor (%2d) é maior que o segundo valor (%2d)\" %(x,y))\n",
        "else:\n",
        "  print(\"O primeiro valor (%2d) é menor que o segundo valor (%2d)\" %(x,y))"
      ],
      "execution_count": 13,
      "outputs": [
        {
          "output_type": "stream",
          "text": [
            "Entre o primeiro numero:25\n",
            "Entre o segundo numero:43\n",
            "O primeiro valor (25) é menor que o segundo valor (43)\n"
          ],
          "name": "stdout"
        }
      ]
    },
    {
      "cell_type": "code",
      "metadata": {
        "id": "2tnZBnAJqBMZ",
        "colab_type": "code",
        "colab": {
          "base_uri": "https://localhost:8080/",
          "height": 51
        },
        "outputId": "eb31432e-5445-4120-ae4a-cb9fba514540"
      },
      "source": [
        "#if com or/and\n",
        "altura = int(input(\"Entre com a sua altura (cm): \"))\n",
        "if (altura<150) or (altura>180):\n",
        "  print(\"Voce nao pode brincar\")\n",
        "else:\n",
        "  print(\"Voce pode brincar\")"
      ],
      "execution_count": 17,
      "outputs": [
        {
          "output_type": "stream",
          "text": [
            "Entre com a sua altura (cm): 122\n",
            "Voce nao pode brincar\n"
          ],
          "name": "stdout"
        }
      ]
    },
    {
      "cell_type": "code",
      "metadata": {
        "id": "aEEJz_W2vKOU",
        "colab_type": "code",
        "colab": {}
      },
      "source": [
        ""
      ],
      "execution_count": null,
      "outputs": []
    },
    {
      "cell_type": "code",
      "metadata": {
        "id": "pw5XS6mmuSMz",
        "colab_type": "code",
        "colab": {
          "base_uri": "https://localhost:8080/",
          "height": 85
        },
        "outputId": "397b04e3-95d7-4b15-f560-182d11bcb0ff"
      },
      "source": [
        "#adivinhando os resultados da divisao\n",
        "numerador = float(input(\"Entre com o numerador: \"))\n",
        "denominador = float(input(\"Entre com o denominador: \"))\n",
        "chute = float(input(\"Entre com o seu chute para o resultado: \"))\n",
        "\n",
        "resultado = numerador/denominador\n",
        "maior = abs(resultado)\n",
        "\n",
        "#verificar se o chute é ate 1/10 do real\n",
        "if abs((chute - resultado)/maior) <= 0.1:\n",
        "  print(\"Seu chute está correto, parabéns!\")\n",
        "else: \n",
        "  print(\"Que pena, voce errou. O valor correto é {}\".format(resultado)) #format pega o valor da variavel"
      ],
      "execution_count": 19,
      "outputs": [
        {
          "output_type": "stream",
          "text": [
            "Entre com o numerador: 20\n",
            "Entre com o denominador: -10\n",
            "Entre com o seu chute para o resultado: 2\n",
            "Que pena, voce errou. O valor correto é -2.0\n"
          ],
          "name": "stdout"
        }
      ]
    },
    {
      "cell_type": "code",
      "metadata": {
        "id": "MmeQeEcLvZFB",
        "colab_type": "code",
        "colab": {
          "base_uri": "https://localhost:8080/",
          "height": 68
        },
        "outputId": "8aacb170-4d58-43f9-97af-e2d11c9cb8c1"
      },
      "source": [
        "#if aninhado\n",
        "i = 10\n",
        "if (i == 10):\n",
        "  if (i < 15):\n",
        "    print(\"i é maior que 15\")\n",
        "    if (i < 12):\n",
        "      print(\"i também é menor que 12\")\n",
        "    else:\n",
        "      print(\"i é maior que 15\")\n",
        "print(\"Continua...\")"
      ],
      "execution_count": 21,
      "outputs": [
        {
          "output_type": "stream",
          "text": [
            "i é maior que 15\n",
            "i também é menor que 12\n",
            "Continua...\n"
          ],
          "name": "stdout"
        }
      ]
    },
    {
      "cell_type": "code",
      "metadata": {
        "id": "Tf8uvH9NwYgA",
        "colab_type": "code",
        "colab": {
          "base_uri": "https://localhost:8080/",
          "height": 153
        },
        "outputId": "ca059659-c4ff-456d-b235-5e49805d4ceb"
      },
      "source": [
        "x = float(input(\"Entre com o primeiro numero: \"))\n",
        "y = float(input(\"Entre com o segundo numero: \"))\n",
        "\n",
        "print(\"(1) - Soma os dois numeros\")\n",
        "print(\"(2) - Subtrai os dois numeros\")\n",
        "print(\"(3) - Multiplica os dois numeros\")\n",
        "print(\"(4) - Divide os dois numeros\")\n",
        "\n",
        "escolha = int(input(\"Escolha uma das opcoes: \"))\n",
        "print(\"O resultado é: \", end = \"\")\n",
        "\n",
        "if escolha == 1:\n",
        "  print(x+y)\n",
        "else:\n",
        "  if escolha == 2:\n",
        "    print(x-y)\n",
        "  else:\n",
        "    if escolha == 3:\n",
        "      print(x*y)\n",
        "    else:\n",
        "      if escolha == 4:\n",
        "        print(x/y)\n",
        "      else:\n",
        "        print(\"Opção invalida\")"
      ],
      "execution_count": 30,
      "outputs": [
        {
          "output_type": "stream",
          "text": [
            "Entre com o primeiro numero: 10\n",
            "Entre com o segundo numero: -1\n",
            "(1) - Soma os dois numeros\n",
            "(2) - Subtrai os dois numeros\n",
            "(3) - Multiplica os dois numeros\n",
            "(4) - Divide os dois numeros\n",
            "Escolha uma das opcoes: 5\n",
            "O resultado é: Opção invalida\n"
          ],
          "name": "stdout"
        }
      ]
    },
    {
      "cell_type": "code",
      "metadata": {
        "id": "pRfsE2aJxVr0",
        "colab_type": "code",
        "colab": {
          "base_uri": "https://localhost:8080/",
          "height": 34
        },
        "outputId": "cdcf5416-6425-4386-9cc6-de6f28a69c7e"
      },
      "source": [
        "#outras condicoes aninhadas\n",
        "x = 10\n",
        "y = 5\n",
        "\n",
        "if x == y:\n",
        "  print(\"x e y sao iguais\")\n",
        "else:\n",
        "  if x < y:\n",
        "    print(\"x é menor que y\")\n",
        "  else:\n",
        "    print(\"x é maior do que y\")"
      ],
      "execution_count": 27,
      "outputs": [
        {
          "output_type": "stream",
          "text": [
            "x é maior do que y\n"
          ],
          "name": "stdout"
        }
      ]
    },
    {
      "cell_type": "code",
      "metadata": {
        "id": "1mnPaiUNxoWF",
        "colab_type": "code",
        "colab": {
          "base_uri": "https://localhost:8080/",
          "height": 34
        },
        "outputId": "ce7168bf-0f58-47c2-bd28-89a6bffaa5fe"
      },
      "source": [
        "#if-elif-else\n",
        "i = 15\n",
        "if (i == 10):\n",
        "  print(\"i é igual a 10\")\n",
        "elif (i == 15):\n",
        "  print(\"i é igual a 15\")\n",
        "elif (i == 20):\n",
        "  print(\"i é igual a 20\")\n",
        "else:\n",
        "  print(\"i não está nas condicoes\")"
      ],
      "execution_count": 33,
      "outputs": [
        {
          "output_type": "stream",
          "text": [
            "i é igual a 15\n"
          ],
          "name": "stdout"
        }
      ]
    },
    {
      "cell_type": "code",
      "metadata": {
        "id": "j4PmSoJp1ojY",
        "colab_type": "code",
        "colab": {
          "base_uri": "https://localhost:8080/",
          "height": 153
        },
        "outputId": "48ce4e67-82d7-48dd-d4af-17a8cc70b4fa"
      },
      "source": [
        "x = float(input(\"Entre com o primeiro numero: \"))\n",
        "y = float(input(\"Entre com o segundo numero: \"))\n",
        "\n",
        "print(\"(1) - Soma os dois numeros\")\n",
        "print(\"(2) - Subtrai os dois numeros\")\n",
        "print(\"(3) - Multiplica os dois numeros\")\n",
        "print(\"(4) - Divide os dois numeros\")\n",
        "\n",
        "escolha = int(input(\"Escolha uma das opcoes: \"))\n",
        "print(\"O resultado é: \", end = \"\")\n",
        "\n",
        "if escolha == 1:\n",
        " print(x+y)\n",
        "elif escolha == 2:\n",
        " print(x-y)\n",
        "elif escolha == 3:\n",
        " print(x*y)\n",
        "elif escolha == 4:\n",
        "  print(x/y)\n",
        "else:\n",
        "  print(\"Opção invalida\")"
      ],
      "execution_count": 35,
      "outputs": [
        {
          "output_type": "stream",
          "text": [
            "Entre com o primeiro numero: 26.4\n",
            "Entre com o segundo numero: 365.76\n",
            "(1) - Soma os dois numeros\n",
            "(2) - Subtrai os dois numeros\n",
            "(3) - Multiplica os dois numeros\n",
            "(4) - Divide os dois numeros\n",
            "Escolha uma das opcoes: 2\n",
            "O resultado é: -339.36\n"
          ],
          "name": "stdout"
        }
      ]
    },
    {
      "cell_type": "code",
      "metadata": {
        "id": "Jjb0eypK2MK8",
        "colab_type": "code",
        "colab": {
          "base_uri": "https://localhost:8080/",
          "height": 102
        },
        "outputId": "510b1c55-c0b8-4d3f-9452-cce8e188dea0"
      },
      "source": [
        "#encontrando o maior entre 3 numeros\n",
        "x = int(input(\"Entre com o primeiro numero: \"))\n",
        "y = int(input(\"Entre com o segundo numero: \"))\n",
        "z = int(input(\"Entre com o terceiro numero: \"))\n",
        "\n",
        "if y > x:\n",
        "  if z > y:\n",
        "    print(z, \" é o maior numero\")\n",
        "  else:\n",
        "    print(y, \" é o maior numero\")\n",
        "else:\n",
        "  if z > x:\n",
        "    print(z, \" é o maior numero\")\n",
        "  else:\n",
        "    print(x, \" é o maior numero\")\n",
        "print(\"Fim\")"
      ],
      "execution_count": 38,
      "outputs": [
        {
          "output_type": "stream",
          "text": [
            "Entre com o primeiro numero: 3\n",
            "Entre com o segundo numero: 2\n",
            "Entre com o terceiro numero: 1\n",
            "3  é o maior numero\n",
            "Fim\n"
          ],
          "name": "stdout"
        }
      ]
    },
    {
      "cell_type": "code",
      "metadata": {
        "id": "Sd-cpfyd3Vft",
        "colab_type": "code",
        "colab": {
          "base_uri": "https://localhost:8080/",
          "height": 102
        },
        "outputId": "5de74a61-dacd-4709-9cf5-aadba2aadb98"
      },
      "source": [
        "#Forma mais inteligente\n",
        "x = int(input(\"Entre com o primeiro numero: \"))\n",
        "y = int(input(\"Entre com o segundo numero: \"))\n",
        "z = int(input(\"Entre com o terceiro numero: \"))\n",
        "\n",
        "#primeiro chute\n",
        "maior_numero = x\n",
        "if y > maior_numero:\n",
        "  #ajusta o primeiro chute\n",
        "  maior_numero = y\n",
        "if z > maior_numero:\n",
        "  #ajusta o segundo chute\n",
        "  maior_numero = z\n",
        "print(maior_numero, \" é o maior numero\")\n",
        "print(\"Fim\")"
      ],
      "execution_count": 40,
      "outputs": [
        {
          "output_type": "stream",
          "text": [
            "Entre com o primeiro numero: 1\n",
            "Entre com o segundo numero: 2\n",
            "Entre com o terceiro numero: 3\n",
            "3  é o maior numero\n",
            "Fim\n"
          ],
          "name": "stdout"
        }
      ]
    },
    {
      "cell_type": "code",
      "metadata": {
        "id": "X7_FWpDW3_IG",
        "colab_type": "code",
        "colab": {
          "base_uri": "https://localhost:8080/",
          "height": 129
        },
        "outputId": "a03cc166-e104-4544-b7f5-4064173355d5"
      },
      "source": [
        "#Trabalhando com exceções\n",
        "#tentar executar um conjunto de codigos, caso nao me retorne um valor verdadeiro -> executa um codigo de exceção\n",
        "\n",
        "#erro devido a sintaxe\n",
        "print(0/0))"
      ],
      "execution_count": 42,
      "outputs": [
        {
          "output_type": "error",
          "ename": "SyntaxError",
          "evalue": "ignored",
          "traceback": [
            "\u001b[0;36m  File \u001b[0;32m\"<ipython-input-42-9fdf12e135b9>\"\u001b[0;36m, line \u001b[0;32m5\u001b[0m\n\u001b[0;31m    print(0/0))\u001b[0m\n\u001b[0m              ^\u001b[0m\n\u001b[0;31mSyntaxError\u001b[0m\u001b[0;31m:\u001b[0m invalid syntax\n"
          ]
        }
      ]
    },
    {
      "cell_type": "code",
      "metadata": {
        "id": "r9thNOd35HA-",
        "colab_type": "code",
        "colab": {
          "base_uri": "https://localhost:8080/",
          "height": 180
        },
        "outputId": "6c153d40-30fb-487e-8019-f31f8cc67350"
      },
      "source": [
        "#erro de exceção\n",
        "print(0/0)"
      ],
      "execution_count": 44,
      "outputs": [
        {
          "output_type": "error",
          "ename": "ZeroDivisionError",
          "evalue": "ignored",
          "traceback": [
            "\u001b[0;31m---------------------------------------------------------------------------\u001b[0m",
            "\u001b[0;31mZeroDivisionError\u001b[0m                         Traceback (most recent call last)",
            "\u001b[0;32m<ipython-input-44-a9d45cb52ba0>\u001b[0m in \u001b[0;36m<module>\u001b[0;34m()\u001b[0m\n\u001b[1;32m      1\u001b[0m \u001b[0;31m#erro de exceção\u001b[0m\u001b[0;34m\u001b[0m\u001b[0;34m\u001b[0m\u001b[0;34m\u001b[0m\u001b[0m\n\u001b[0;32m----> 2\u001b[0;31m \u001b[0mprint\u001b[0m\u001b[0;34m(\u001b[0m\u001b[0;36m0\u001b[0m\u001b[0;34m/\u001b[0m\u001b[0;36m0\u001b[0m\u001b[0;34m)\u001b[0m\u001b[0;34m\u001b[0m\u001b[0;34m\u001b[0m\u001b[0m\n\u001b[0m",
            "\u001b[0;31mZeroDivisionError\u001b[0m: division by zero"
          ]
        }
      ]
    },
    {
      "cell_type": "code",
      "metadata": {
        "id": "bb0TimFH5MR-",
        "colab_type": "code",
        "colab": {
          "base_uri": "https://localhost:8080/",
          "height": 197
        },
        "outputId": "9678dccc-33bf-4622-c706-ddddf7276056"
      },
      "source": [
        "#gerando uma exceção\n",
        "x = 10\n",
        "\n",
        "if x > 5:\n",
        "  raise Exception(\"x não deve ser maior do que 5. O valor de x digitado foi {}\".format(x))"
      ],
      "execution_count": 46,
      "outputs": [
        {
          "output_type": "error",
          "ename": "Exception",
          "evalue": "ignored",
          "traceback": [
            "\u001b[0;31m---------------------------------------------------------------------------\u001b[0m",
            "\u001b[0;31mException\u001b[0m                                 Traceback (most recent call last)",
            "\u001b[0;32m<ipython-input-46-66ba78795857>\u001b[0m in \u001b[0;36m<module>\u001b[0;34m()\u001b[0m\n\u001b[1;32m      3\u001b[0m \u001b[0;34m\u001b[0m\u001b[0m\n\u001b[1;32m      4\u001b[0m \u001b[0;32mif\u001b[0m \u001b[0mx\u001b[0m \u001b[0;34m>\u001b[0m \u001b[0;36m5\u001b[0m\u001b[0;34m:\u001b[0m\u001b[0;34m\u001b[0m\u001b[0;34m\u001b[0m\u001b[0m\n\u001b[0;32m----> 5\u001b[0;31m   \u001b[0;32mraise\u001b[0m \u001b[0mException\u001b[0m\u001b[0;34m(\u001b[0m\u001b[0;34m\"x não deve ser maior do que 5. O valor de x digitado foi {}\"\u001b[0m\u001b[0;34m.\u001b[0m\u001b[0mformat\u001b[0m\u001b[0;34m(\u001b[0m\u001b[0mx\u001b[0m\u001b[0;34m)\u001b[0m\u001b[0;34m)\u001b[0m\u001b[0;34m\u001b[0m\u001b[0;34m\u001b[0m\u001b[0m\n\u001b[0m",
            "\u001b[0;31mException\u001b[0m: x não deve ser maior do que 5. O valor de x digitado foi 10"
          ]
        }
      ]
    },
    {
      "cell_type": "code",
      "metadata": {
        "id": "XA2thrlZ5h-m",
        "colab_type": "code",
        "colab": {
          "base_uri": "https://localhost:8080/",
          "height": 68
        },
        "outputId": "a4ca33d8-24b6-49ad-b203-896c01c4cb2c"
      },
      "source": [
        "#lidando com erros - verificando se um numero é divisivel por zero\n",
        "\n",
        "numerador = int(input(\"Entre com o numerador: \"))\n",
        "denominador = int(input(\"Entre com o denominador: \"))\n",
        "\n",
        "if numerador % denominador == 0:\n",
        "  print(\"O numerador é divisivel pelo denominador\")\n",
        "else:\n",
        "  print(\"A divisão não é inteira\")"
      ],
      "execution_count": 53,
      "outputs": [
        {
          "output_type": "stream",
          "text": [
            "Entre com o numerador: 10\n",
            "Entre com o denominador: -5\n",
            "O numerador é divisivel pelo denominador\n"
          ],
          "name": "stdout"
        }
      ]
    },
    {
      "cell_type": "code",
      "metadata": {
        "id": "it-6x6qh6Acm",
        "colab_type": "code",
        "colab": {
          "base_uri": "https://localhost:8080/",
          "height": 68
        },
        "outputId": "f3874e08-d5c7-4912-fd76-32cc2545ae09"
      },
      "source": [
        "#exemplo de adivinhação com exceções\n",
        "try:\n",
        "  numerador = int(input(\"Entre com o numerador: \"))\n",
        "except ValueError: #captura apenas exceções do tipo ValueErrors\n",
        "  print(\"Voce não entrou com um numero inteiro\")\n",
        "  exit(0)\n",
        "\n",
        "try: \n",
        "  denominador = int(input(\"Entre com o denominador: \"))\n",
        "except ValueError: #lida com qualquer tipo de erro\n",
        "  print(\"Voce não entrou com um numero inteiro\")\n",
        "  exit(0)\n",
        "\n",
        "try:\n",
        "  if numerador % denominador == 0:\n",
        "    print(\"O numerador é divisivel pelo denominador\")\n",
        "  else:\n",
        "    print(\"A divisão não é inteira\")\n",
        "except ZeroDivisionError: #captura divisoes por zero\n",
        "  print(\"Denominador não pode ser zero\")"
      ],
      "execution_count": 2,
      "outputs": [
        {
          "output_type": "stream",
          "text": [
            "Entre com o numerador: 10\n",
            "Entre com o denominador: 0\n",
            "Denominador não pode ser zero\n"
          ],
          "name": "stdout"
        }
      ]
    },
    {
      "cell_type": "code",
      "metadata": {
        "id": "U49NyVoP7SQV",
        "colab_type": "code",
        "colab": {
          "base_uri": "https://localhost:8080/",
          "height": 180
        },
        "outputId": "b629f7ad-a968-4486-96f5-4e08df80ee84"
      },
      "source": [
        "#quando utilizar em seu codigo?\n",
        "raise KeyError(\"Isso é o que ocorre\")"
      ],
      "execution_count": 4,
      "outputs": [
        {
          "output_type": "error",
          "ename": "KeyError",
          "evalue": "ignored",
          "traceback": [
            "\u001b[0;31m---------------------------------------------------------------------------\u001b[0m",
            "\u001b[0;31mKeyError\u001b[0m                                  Traceback (most recent call last)",
            "\u001b[0;32m<ipython-input-4-faf0926924f9>\u001b[0m in \u001b[0;36m<module>\u001b[0;34m()\u001b[0m\n\u001b[1;32m      1\u001b[0m \u001b[0;31m#quando utilizar em seu codigo?\u001b[0m\u001b[0;34m\u001b[0m\u001b[0;34m\u001b[0m\u001b[0;34m\u001b[0m\u001b[0m\n\u001b[0;32m----> 2\u001b[0;31m \u001b[0;32mraise\u001b[0m \u001b[0mKeyError\u001b[0m\u001b[0;34m(\u001b[0m\u001b[0;34m\"Isso é o que ocorre\"\u001b[0m\u001b[0;34m)\u001b[0m\u001b[0;34m\u001b[0m\u001b[0;34m\u001b[0m\u001b[0m\n\u001b[0m",
            "\u001b[0;31mKeyError\u001b[0m: 'Isso é o que ocorre'"
          ]
        }
      ]
    },
    {
      "cell_type": "code",
      "metadata": {
        "id": "lWyE0GxF7d_e",
        "colab_type": "code",
        "colab": {
          "base_uri": "https://localhost:8080/",
          "height": 51
        },
        "outputId": "632226e0-ea9d-41a0-9d89-1837ac2528eb"
      },
      "source": [
        "idades = {\"Tulio\": 30, \"Maria\": 28, \"Antonio\": 33}\n",
        "pessoa = input(\"Quero saber a idade de: \")\n",
        "idade = idades.get(pessoa)\n",
        "\n",
        "if idade:\n",
        "  print(f'{pessoa} tem {idade} anos de idade')\n",
        "else:\n",
        "  print(f\"{pessoa} com idade desconhecida\")"
      ],
      "execution_count": 6,
      "outputs": [
        {
          "output_type": "stream",
          "text": [
            "Quero saber a idade de: Jose\n",
            "Jose com idade desconhecida\n"
          ],
          "name": "stdout"
        }
      ]
    },
    {
      "cell_type": "code",
      "metadata": {
        "id": "yL-fFwm7746a",
        "colab_type": "code",
        "colab": {
          "base_uri": "https://localhost:8080/",
          "height": 51
        },
        "outputId": "f576b89a-0b4a-4991-c2eb-e3337bc5d441"
      },
      "source": [
        "idades = {\"Tulio\": 30, \"Maria\": 28, \"Antonio\": 33}\n",
        "pessoa = input(\"Quero saber a idade de: \")\n",
        "idade = idades.get(pessoa)\n",
        "\n",
        "try:\n",
        "  print(f'{pessoa} tem {idades[pessoa]} anos de idade')\n",
        "except KeyError:\n",
        "  print(f\"{pessoa} com idade desconhecida\")"
      ],
      "execution_count": 8,
      "outputs": [
        {
          "output_type": "stream",
          "text": [
            "Quero saber a idade de: Camila\n",
            "Camila com idade desconhecida\n"
          ],
          "name": "stdout"
        }
      ]
    }
  ]
}