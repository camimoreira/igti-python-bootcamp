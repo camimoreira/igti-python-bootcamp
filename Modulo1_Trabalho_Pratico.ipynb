{
  "nbformat": 4,
  "nbformat_minor": 0,
  "metadata": {
    "colab": {
      "name": "Modulo1_Trabalho_Pratico.ipynb",
      "provenance": [],
      "authorship_tag": "ABX9TyPfA88e12Gol+8nICP+oeQs",
      "include_colab_link": true
    },
    "kernelspec": {
      "name": "python3",
      "display_name": "Python 3"
    }
  },
  "cells": [
    {
      "cell_type": "markdown",
      "metadata": {
        "id": "view-in-github",
        "colab_type": "text"
      },
      "source": [
        "<a href=\"https://colab.research.google.com/github/camimoreira/igti-python-bootcamp/blob/master/Modulo1_Trabalho_Pratico.ipynb\" target=\"_parent\"><img src=\"https://colab.research.google.com/assets/colab-badge.svg\" alt=\"Open In Colab\"/></a>"
      ]
    },
    {
      "cell_type": "code",
      "metadata": {
        "id": "Um3IM1e8LR6L",
        "colab_type": "code",
        "colab": {
          "base_uri": "https://localhost:8080/",
          "height": 51
        },
        "outputId": "26826fa8-44a6-4ad0-cbf1-7945b33d57aa"
      },
      "source": [
        "idade = int(input(\"Entre com a sua idade:\"))\n",
        "nova_idade = idade + 1\n",
        "print(\"No próximo ano voce terá: {} anos\". format(nova_idade))"
      ],
      "execution_count": null,
      "outputs": [
        {
          "output_type": "stream",
          "text": [
            "Entre com a sua idade:30\n",
            "No próximo ano voce terá: 31 anos\n"
          ],
          "name": "stdout"
        }
      ]
    },
    {
      "cell_type": "code",
      "metadata": {
        "id": "E8SeCqiGLosC",
        "colab_type": "code",
        "colab": {
          "base_uri": "https://localhost:8080/",
          "height": 34
        },
        "outputId": "977de3b4-3c31-4bbf-8734-2c16baeb5dd9"
      },
      "source": [
        "lado_a = 35\n",
        "lado_b = 14.33333\n",
        "area_do_retangulo = (lado_a)*(lado_b)\n",
        "type(area_do_retangulo)\n",
        "print(\"O retangulo de lado A = %d e lado B = %.2f é %.3f\" %(lado_a, lado_b, area_do_retangulo))"
      ],
      "execution_count": null,
      "outputs": [
        {
          "output_type": "stream",
          "text": [
            "O retangulo de lado A = 35 e lado B = 14.33 é 501.667\n"
          ],
          "name": "stdout"
        }
      ]
    },
    {
      "cell_type": "code",
      "metadata": {
        "id": "7ykErH0PL7Ks",
        "colab_type": "code",
        "colab": {
          "base_uri": "https://localhost:8080/",
          "height": 34
        },
        "outputId": "1e81db14-d786-47ca-de7b-d3d38d066da0"
      },
      "source": [
        "lista_1 = [1,2,'IGTI']\n",
        "lista_2 = [2,3,\"Bootcamp\"]\n",
        "lista_3 = lista_1 + lista_2\n",
        "lista_3.append(\"oi\")\n",
        "print(lista_3)"
      ],
      "execution_count": null,
      "outputs": [
        {
          "output_type": "stream",
          "text": [
            "[1, 2, 'IGTI', 2, 3, 'Bootcamp', 'oi']\n"
          ],
          "name": "stdout"
        }
      ]
    },
    {
      "cell_type": "code",
      "metadata": {
        "id": "2DLL6E0mMGNX",
        "colab_type": "code",
        "colab": {
          "base_uri": "https://localhost:8080/",
          "height": 119
        },
        "outputId": "df09c2a2-99ab-4813-e79d-02654390c222"
      },
      "source": [
        "chute = int(input(\"Entre com um valor inteiro de 0 a 30:\"))\n",
        "adivinhacao = [5,6,10,14,16,20,30]\n",
        "if chute in adivinhacao:\n",
        "  print(\"Voce acertou um dos numeros que eu estava pensando\")\n",
        "  if chute > 15:\n",
        "    print(\"Esse numero é maior do que 20\")\n",
        "  if chute < 20:\n",
        "    print(\"Esse numero é menor do que 20\")\n",
        "  print(\"Voce é fera\")\n",
        "else:\n",
        "  print(\"Que pena, voce errou. Pode tentar outra vez\")\n",
        "print(\"Obrigado por participar\")"
      ],
      "execution_count": null,
      "outputs": [
        {
          "output_type": "stream",
          "text": [
            "Entre com um valor inteiro de 0 a 30:16\n",
            "Voce acertou um dos numeros que eu estava pensando\n",
            "Esse numero é maior do que 20\n",
            "Esse numero é menor do que 20\n",
            "Voce é fera\n",
            "Obrigado por participar\n"
          ],
          "name": "stdout"
        }
      ]
    },
    {
      "cell_type": "code",
      "metadata": {
        "id": "zhDN5P7AMibx",
        "colab_type": "code",
        "colab": {
          "base_uri": "https://localhost:8080/",
          "height": 51
        },
        "outputId": "1cfd427c-5887-4987-a57f-c5fb9242328c"
      },
      "source": [
        "frutas = [\"maca\", \"banana\", \"uva\", \"goiaba\"]\n",
        "for x in frutas:\n",
        "  if x == \"uva\":\n",
        "    break\n",
        "  print(x)"
      ],
      "execution_count": null,
      "outputs": [
        {
          "output_type": "stream",
          "text": [
            "maca\n",
            "banana\n"
          ],
          "name": "stdout"
        }
      ]
    },
    {
      "cell_type": "code",
      "metadata": {
        "id": "16d2BtTYMtgU",
        "colab_type": "code",
        "colab": {
          "base_uri": "https://localhost:8080/",
          "height": 119
        },
        "outputId": "9259aaf3-970b-45bd-a162-97c7ee3198c9"
      },
      "source": [
        "n = 5\n",
        "while n >= 0:\n",
        "  n -= 1\n",
        "  print(n)"
      ],
      "execution_count": null,
      "outputs": [
        {
          "output_type": "stream",
          "text": [
            "4\n",
            "3\n",
            "2\n",
            "1\n",
            "0\n",
            "-1\n"
          ],
          "name": "stdout"
        }
      ]
    }
  ]
}