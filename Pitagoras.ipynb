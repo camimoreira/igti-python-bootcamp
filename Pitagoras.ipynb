{
  "nbformat": 4,
  "nbformat_minor": 0,
  "metadata": {
    "colab": {
      "name": "Pitagoras.ipynb",
      "provenance": [],
      "authorship_tag": "ABX9TyPCb0DTsdjc9rQYJ4ocM5M8",
      "include_colab_link": true
    },
    "kernelspec": {
      "name": "python3",
      "display_name": "Python 3"
    }
  },
  "cells": [
    {
      "cell_type": "markdown",
      "metadata": {
        "id": "view-in-github",
        "colab_type": "text"
      },
      "source": [
        "<a href=\"https://colab.research.google.com/github/camimoreira/igti-python-bootcamp/blob/master/Pitagoras.ipynb\" target=\"_parent\"><img src=\"https://colab.research.google.com/assets/colab-badge.svg\" alt=\"Open In Colab\"/></a>"
      ]
    },
    {
      "cell_type": "code",
      "metadata": {
        "id": "A2ge_Ly9lc1T",
        "colab_type": "code",
        "colab": {
          "base_uri": "https://localhost:8080/",
          "height": 34
        },
        "outputId": "fee6b40e-b9e2-4a89-c8fb-ac77d0776fde"
      },
      "source": [
        "#aplicado o teorema de pitágoras\n",
        "b=3\n",
        "c=4\n",
        "a2=(b**2)+(c**2)\n",
        "print(a2)"
      ],
      "execution_count": 9,
      "outputs": [
        {
          "output_type": "stream",
          "text": [
            "25\n"
          ],
          "name": "stdout"
        }
      ]
    },
    {
      "cell_type": "code",
      "metadata": {
        "id": "33xHVxl8-Eq9",
        "colab_type": "code",
        "colab": {
          "base_uri": "https://localhost:8080/",
          "height": 34
        },
        "outputId": "5b0d7f6b-1fdd-46c2-aadc-7a93afec4966"
      },
      "source": [
        "a=a2**0.5\n",
        "print('O valor da hipotenusa é: ',a)"
      ],
      "execution_count": 7,
      "outputs": [
        {
          "output_type": "stream",
          "text": [
            "O valor da hipotenusa é:  5.0\n"
          ],
          "name": "stdout"
        }
      ]
    }
  ]
}