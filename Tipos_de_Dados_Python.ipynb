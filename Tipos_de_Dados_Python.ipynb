{
  "nbformat": 4,
  "nbformat_minor": 0,
  "metadata": {
    "colab": {
      "name": "Python Data Types.ipynb",
      "provenance": [],
      "authorship_tag": "ABX9TyMyjorBlKeGxVG6dW7LYl/2",
      "include_colab_link": true
    },
    "kernelspec": {
      "name": "python3",
      "display_name": "Python 3"
    }
  },
  "cells": [
    {
      "cell_type": "markdown",
      "metadata": {
        "id": "view-in-github",
        "colab_type": "text"
      },
      "source": [
        "<a href=\"https://colab.research.google.com/github/camimoreira/igti-python-bootcamp/blob/master/Python_Data_Types.ipynb\" target=\"_parent\"><img src=\"https://colab.research.google.com/assets/colab-badge.svg\" alt=\"Open In Colab\"/></a>"
      ]
    },
    {
      "cell_type": "code",
      "metadata": {
        "id": "vMgO7MxOJALx",
        "colab_type": "code",
        "colab": {
          "base_uri": "https://localhost:8080/",
          "height": 34
        },
        "outputId": "25238212-1a46-42c6-b31b-d53f97458314"
      },
      "source": [
        "#atribuição de valores\n",
        "\n",
        "#<identificador>=<expressão>\n",
        "\n",
        "cateto_a = 4\n",
        "endereco = id(cateto_a)\n",
        "print(endereco)"
      ],
      "execution_count": null,
      "outputs": [
        {
          "output_type": "stream",
          "text": [
            "10914592\n"
          ],
          "name": "stdout"
        }
      ]
    },
    {
      "cell_type": "code",
      "metadata": {
        "id": "YGu-IicqKOvI",
        "colab_type": "code",
        "colab": {
          "base_uri": "https://localhost:8080/",
          "height": 34
        },
        "outputId": "5ecdf801-b1db-4748-9a1a-5d4db9c4b1aa"
      },
      "source": [
        "hex_endereco = hex(endereco)\n",
        "print(hex_endereco)"
      ],
      "execution_count": null,
      "outputs": [
        {
          "output_type": "stream",
          "text": [
            "0xa68b20\n"
          ],
          "name": "stdout"
        }
      ]
    },
    {
      "cell_type": "code",
      "metadata": {
        "id": "p-qGIrVdKVC5",
        "colab_type": "code",
        "colab": {
          "base_uri": "https://localhost:8080/",
          "height": 51
        },
        "outputId": "4db8af67-fd54-4889-dc45-99468efff2f8"
      },
      "source": [
        "#a = 10\n",
        "a = 10\n",
        "print(a)\n",
        "print(id(a))"
      ],
      "execution_count": null,
      "outputs": [
        {
          "output_type": "stream",
          "text": [
            "10\n",
            "10914784\n"
          ],
          "name": "stdout"
        }
      ]
    },
    {
      "cell_type": "code",
      "metadata": {
        "id": "gNZ-yNH1KqxE",
        "colab_type": "code",
        "colab": {
          "base_uri": "https://localhost:8080/",
          "height": 51
        },
        "outputId": "f9dcb281-2ff8-4dae-f055-bc1a0f275ad4"
      },
      "source": [
        "b = 10\n",
        "print(b)\n",
        "print(id(b))"
      ],
      "execution_count": null,
      "outputs": [
        {
          "output_type": "stream",
          "text": [
            "10\n",
            "10914784\n"
          ],
          "name": "stdout"
        }
      ]
    },
    {
      "cell_type": "code",
      "metadata": {
        "id": "S6MYoPTnKuJO",
        "colab_type": "code",
        "colab": {
          "base_uri": "https://localhost:8080/",
          "height": 34
        },
        "outputId": "ce95db63-de67-42ff-f719-915811dbaed9"
      },
      "source": [
        "#verificando se os id a e b são os mesmos\n",
        "id(a) == id(b)"
      ],
      "execution_count": null,
      "outputs": [
        {
          "output_type": "execute_result",
          "data": {
            "text/plain": [
              "True"
            ]
          },
          "metadata": {
            "tags": []
          },
          "execution_count": 17
        }
      ]
    },
    {
      "cell_type": "code",
      "metadata": {
        "id": "zIhSFz2ZLAXV",
        "colab_type": "code",
        "colab": {
          "base_uri": "https://localhost:8080/",
          "height": 51
        },
        "outputId": "fa8dd841-c8b6-4e4e-cee7-d37df97e15be"
      },
      "source": [
        "a = 10\n",
        "b = a\n",
        "print(a)\n",
        "print(b)"
      ],
      "execution_count": null,
      "outputs": [
        {
          "output_type": "stream",
          "text": [
            "10\n",
            "10\n"
          ],
          "name": "stdout"
        }
      ]
    },
    {
      "cell_type": "code",
      "metadata": {
        "id": "QpOOKYfVLUUc",
        "colab_type": "code",
        "colab": {
          "base_uri": "https://localhost:8080/",
          "height": 34
        },
        "outputId": "28ff34b2-0672-48ce-b650-853f077c40a4"
      },
      "source": [
        "#verificando se os id a e b são os mesmos\n",
        "id(a) == id(b)"
      ],
      "execution_count": null,
      "outputs": [
        {
          "output_type": "execute_result",
          "data": {
            "text/plain": [
              "True"
            ]
          },
          "metadata": {
            "tags": []
          },
          "execution_count": 21
        }
      ]
    },
    {
      "cell_type": "code",
      "metadata": {
        "id": "W2IdaeqGLaBj",
        "colab_type": "code",
        "colab": {
          "base_uri": "https://localhost:8080/",
          "height": 85
        },
        "outputId": "23bc21ea-c72f-4491-de2e-1c7b83a3c2fa"
      },
      "source": [
        "#atribuindo novos valores\n",
        "a = 10\n",
        "b = 10\n",
        "print(a)\n",
        "print(b)\n",
        "id(a) == id(b)\n",
        "b = 30\n",
        "print(b)\n",
        "id(a) == id(b)"
      ],
      "execution_count": null,
      "outputs": [
        {
          "output_type": "stream",
          "text": [
            "10\n",
            "10\n",
            "30\n"
          ],
          "name": "stdout"
        },
        {
          "output_type": "execute_result",
          "data": {
            "text/plain": [
              "False"
            ]
          },
          "metadata": {
            "tags": []
          },
          "execution_count": 25
        }
      ]
    },
    {
      "cell_type": "code",
      "metadata": {
        "id": "WO32pViWMD9V",
        "colab_type": "code",
        "colab": {
          "base_uri": "https://localhost:8080/",
          "height": 34
        },
        "outputId": "2f76005c-272a-418e-b51d-27fbe1542c23"
      },
      "source": [
        "#atribuição de valores\n",
        "x = 1\n",
        "endereco = id(x)\n",
        "print(hex(endereco))"
      ],
      "execution_count": null,
      "outputs": [
        {
          "output_type": "stream",
          "text": [
            "0xa68ac0\n"
          ],
          "name": "stdout"
        }
      ]
    },
    {
      "cell_type": "code",
      "metadata": {
        "id": "1gHoliyUMPUJ",
        "colab_type": "code",
        "colab": {
          "base_uri": "https://localhost:8080/",
          "height": 34
        },
        "outputId": "131e9706-8765-4226-a6a8-57c18bbc145f"
      },
      "source": [
        "#atribuindo valores\n",
        "x = x + 1 \n",
        "endereco = id(x)\n",
        "print(hex(endereco))"
      ],
      "execution_count": null,
      "outputs": [
        {
          "output_type": "stream",
          "text": [
            "0xa68b00\n"
          ],
          "name": "stdout"
        }
      ]
    },
    {
      "cell_type": "code",
      "metadata": {
        "id": "4o3KrbnbMhLR",
        "colab_type": "code",
        "colab": {}
      },
      "source": [
        "#Garbage collector = evita ocupar espaços que não fazem mais parte"
      ],
      "execution_count": null,
      "outputs": []
    },
    {
      "cell_type": "code",
      "metadata": {
        "id": "ygEqce22M2Pm",
        "colab_type": "code",
        "colab": {
          "base_uri": "https://localhost:8080/",
          "height": 102
        },
        "outputId": "7b250dc6-7058-407f-89db-441b4ec707b9"
      },
      "source": [
        "#Numéricos\n",
        "#demonstrando dados numéricos\n",
        "a = 5\n",
        "print(\"Tipo de dados de a: \", type(a))\n",
        "\n",
        "b = 5.0\n",
        "print(\"\\nTipo de dados de b: \", type(b))\n",
        "\n",
        "c = 2 + 4j\n",
        "print(\"\\nTipo de dados de c: \", type(c))"
      ],
      "execution_count": null,
      "outputs": [
        {
          "output_type": "stream",
          "text": [
            "Tipo de dados de a:  <class 'int'>\n",
            "\n",
            "Tipo de dados de b:  <class 'float'>\n",
            "\n",
            "Tipo de dados de c:  <class 'complex'>\n"
          ],
          "name": "stdout"
        }
      ]
    },
    {
      "cell_type": "code",
      "metadata": {
        "id": "sVkW7YXHNIyl",
        "colab_type": "code",
        "colab": {
          "base_uri": "https://localhost:8080/",
          "height": 68
        },
        "outputId": "af8542ca-77a0-4be1-b9f9-c72627b27ed2"
      },
      "source": [
        "#Strings\n",
        "String1 = 'Fundamentos de Python no IGTI'\n",
        "print(\"String com aspas simples: \")\n",
        "print(String1)\n",
        "print(type(String1))"
      ],
      "execution_count": null,
      "outputs": [
        {
          "output_type": "stream",
          "text": [
            "String com aspas simples: \n",
            "Fundamentos de Python no IGTI\n",
            "<class 'str'>\n"
          ],
          "name": "stdout"
        }
      ]
    },
    {
      "cell_type": "code",
      "metadata": {
        "id": "e-3naj-vN1lf",
        "colab_type": "code",
        "colab": {
          "base_uri": "https://localhost:8080/",
          "height": 68
        },
        "outputId": "6da7ae69-dc6c-42ef-a04a-b0fb2d83799d"
      },
      "source": [
        "#String com aspas duplas\n",
        "String1 = \"Fundamentos de Python no IGTI\"\n",
        "print(\"String com aspas duplas: \")\n",
        "print(String1)\n",
        "print(type(String1))"
      ],
      "execution_count": null,
      "outputs": [
        {
          "output_type": "stream",
          "text": [
            "String com aspas duplas: \n",
            "Fundamentos de Python no IGTI\n",
            "<class 'str'>\n"
          ],
          "name": "stdout"
        }
      ]
    },
    {
      "cell_type": "code",
      "metadata": {
        "id": "1n0hibKjOBL0",
        "colab_type": "code",
        "colab": {
          "base_uri": "https://localhost:8080/",
          "height": 68
        },
        "outputId": "c7ef2732-496f-4613-999f-a893ec38a73a"
      },
      "source": [
        "#String com aspas triplas\n",
        "String1 = '''Fundamentos de Python no IGTI'''\n",
        "print(\"String com aspas triplas: \")\n",
        "print(String1)\n",
        "print(type(String1))"
      ],
      "execution_count": null,
      "outputs": [
        {
          "output_type": "stream",
          "text": [
            "String com aspas triplas: \n",
            "Fundamentos de Python no IGTI\n",
            "<class 'str'>\n"
          ],
          "name": "stdout"
        }
      ]
    },
    {
      "cell_type": "code",
      "metadata": {
        "id": "hOHnqyidOLX8",
        "colab_type": "code",
        "colab": {
          "base_uri": "https://localhost:8080/",
          "height": 102
        },
        "outputId": "3d57db45-0b8c-4199-cf5b-6416f30273c0"
      },
      "source": [
        "#Aspas triplas em multiplas linhas - somente aplicavel com aspas triplas\n",
        "String1 = '''Fundamentos de Python\n",
        "              no\n",
        "              IGTI'''\n",
        "print(\"String com multiplas linhas: \")\n",
        "print(String1)\n",
        "print(type(String1))"
      ],
      "execution_count": null,
      "outputs": [
        {
          "output_type": "stream",
          "text": [
            "String com multiplas linhas: \n",
            "Fundamentos de Python\n",
            "              no\n",
            "              IGTI\n",
            "<class 'str'>\n"
          ],
          "name": "stdout"
        }
      ]
    },
    {
      "cell_type": "code",
      "metadata": {
        "id": "skIlcC_hOgrj",
        "colab_type": "code",
        "colab": {
          "base_uri": "https://localhost:8080/",
          "height": 51
        },
        "outputId": "614d78f8-ded5-422d-960a-14dd385a6f9a"
      },
      "source": [
        "#Acessando os Elementos de uma String\n",
        "#Criando a String\n",
        "String1 = \"InstitutoIGTI\"\n",
        "print(\"String: \")\n",
        "print(String1)"
      ],
      "execution_count": null,
      "outputs": [
        {
          "output_type": "stream",
          "text": [
            "String: \n",
            "InstitutoIGTI\n"
          ],
          "name": "stdout"
        }
      ]
    },
    {
      "cell_type": "code",
      "metadata": {
        "id": "X1gPEQRvO0q-",
        "colab_type": "code",
        "colab": {
          "base_uri": "https://localhost:8080/",
          "height": 51
        },
        "outputId": "701f7fd1-5046-4cae-e855-54f2bceed225"
      },
      "source": [
        "#Print do primeiro caracter\n",
        "print(\"O primeiro caracter da string é:\")\n",
        "print(String1[0])"
      ],
      "execution_count": null,
      "outputs": [
        {
          "output_type": "stream",
          "text": [
            "O primeiro caracter da string é:\n",
            "I\n"
          ],
          "name": "stdout"
        }
      ]
    },
    {
      "cell_type": "code",
      "metadata": {
        "id": "RogDYZgmPIrU",
        "colab_type": "code",
        "colab": {
          "base_uri": "https://localhost:8080/",
          "height": 51
        },
        "outputId": "5f164ffa-7e84-4d99-9c3e-bc88bf2d9a84"
      },
      "source": [
        "#Print do ultimo caracter\n",
        "print(\"O ultimo caracter da string é:\")\n",
        "print(String1[-1])"
      ],
      "execution_count": null,
      "outputs": [
        {
          "output_type": "stream",
          "text": [
            "O ultimo caracter da string é:\n",
            "I\n"
          ],
          "name": "stdout"
        }
      ]
    },
    {
      "cell_type": "code",
      "metadata": {
        "id": "ano2kskFPUEq",
        "colab_type": "code",
        "colab": {
          "base_uri": "https://localhost:8080/",
          "height": 51
        },
        "outputId": "b577550c-6e90-4929-8bbe-8a049aae414e"
      },
      "source": [
        "#criando a nossa string\n",
        "String1 = \"Programação Python no IGTI\"\n",
        "print(\"String inicial: \")\n",
        "print(String1)\n"
      ],
      "execution_count": null,
      "outputs": [
        {
          "output_type": "stream",
          "text": [
            "String inicial: \n",
            "Programação Python no IGTI\n"
          ],
          "name": "stdout"
        }
      ]
    },
    {
      "cell_type": "code",
      "metadata": {
        "id": "o-t34SM2PhGa",
        "colab_type": "code",
        "colab": {
          "base_uri": "https://localhost:8080/",
          "height": 248
        },
        "outputId": "d453fc9f-8594-423d-b91e-067878f90123"
      },
      "source": [
        "#Realizando o update de um caracter da String 1\n",
        "print(\"Caracter da posição 2:\", String1[2])\n",
        "String1[2] = 'p'\n",
        "print(\"Realizando o update para o caracater da posição 2\")\n",
        "print(String1)"
      ],
      "execution_count": null,
      "outputs": [
        {
          "output_type": "stream",
          "text": [
            "Caracter da posição 2: o\n"
          ],
          "name": "stdout"
        },
        {
          "output_type": "error",
          "ename": "TypeError",
          "evalue": "ignored",
          "traceback": [
            "\u001b[0;31m---------------------------------------------------------------------------\u001b[0m",
            "\u001b[0;31mTypeError\u001b[0m                                 Traceback (most recent call last)",
            "\u001b[0;32m<ipython-input-58-9b163678893f>\u001b[0m in \u001b[0;36m<module>\u001b[0;34m()\u001b[0m\n\u001b[1;32m      1\u001b[0m \u001b[0;31m#Realizando o update de um caracter da String 1\u001b[0m\u001b[0;34m\u001b[0m\u001b[0;34m\u001b[0m\u001b[0;34m\u001b[0m\u001b[0m\n\u001b[1;32m      2\u001b[0m \u001b[0mprint\u001b[0m\u001b[0;34m(\u001b[0m\u001b[0;34m\"Caracter da posição 2:\"\u001b[0m\u001b[0;34m,\u001b[0m \u001b[0mString1\u001b[0m\u001b[0;34m[\u001b[0m\u001b[0;36m2\u001b[0m\u001b[0;34m]\u001b[0m\u001b[0;34m)\u001b[0m\u001b[0;34m\u001b[0m\u001b[0;34m\u001b[0m\u001b[0m\n\u001b[0;32m----> 3\u001b[0;31m \u001b[0mString1\u001b[0m\u001b[0;34m[\u001b[0m\u001b[0;36m2\u001b[0m\u001b[0;34m]\u001b[0m \u001b[0;34m=\u001b[0m \u001b[0;34m'p'\u001b[0m\u001b[0;34m\u001b[0m\u001b[0;34m\u001b[0m\u001b[0m\n\u001b[0m\u001b[1;32m      4\u001b[0m \u001b[0mprint\u001b[0m\u001b[0;34m(\u001b[0m\u001b[0;34m\"Realizando o update para o caracater da posição 2\"\u001b[0m\u001b[0;34m)\u001b[0m\u001b[0;34m\u001b[0m\u001b[0;34m\u001b[0m\u001b[0m\n\u001b[1;32m      5\u001b[0m \u001b[0mprint\u001b[0m\u001b[0;34m(\u001b[0m\u001b[0mString1\u001b[0m\u001b[0;34m)\u001b[0m\u001b[0;34m\u001b[0m\u001b[0;34m\u001b[0m\u001b[0m\n",
            "\u001b[0;31mTypeError\u001b[0m: 'str' object does not support item assignment"
          ]
        }
      ]
    },
    {
      "cell_type": "code",
      "metadata": {
        "id": "EliP-WiZP6Mf",
        "colab_type": "code",
        "colab": {
          "base_uri": "https://localhost:8080/",
          "height": 180
        },
        "outputId": "1ccfe943-eb0d-4e11-9a09-8bcc055310a5"
      },
      "source": [
        "del String1[2]\n",
        "print(String1)"
      ],
      "execution_count": null,
      "outputs": [
        {
          "output_type": "error",
          "ename": "TypeError",
          "evalue": "ignored",
          "traceback": [
            "\u001b[0;31m---------------------------------------------------------------------------\u001b[0m",
            "\u001b[0;31mTypeError\u001b[0m                                 Traceback (most recent call last)",
            "\u001b[0;32m<ipython-input-60-b1effc8f8e07>\u001b[0m in \u001b[0;36m<module>\u001b[0;34m()\u001b[0m\n\u001b[0;32m----> 1\u001b[0;31m \u001b[0;32mdel\u001b[0m \u001b[0mString1\u001b[0m\u001b[0;34m[\u001b[0m\u001b[0;36m2\u001b[0m\u001b[0;34m]\u001b[0m\u001b[0;34m\u001b[0m\u001b[0;34m\u001b[0m\u001b[0m\n\u001b[0m\u001b[1;32m      2\u001b[0m \u001b[0mprint\u001b[0m\u001b[0;34m(\u001b[0m\u001b[0mString1\u001b[0m\u001b[0;34m)\u001b[0m\u001b[0;34m\u001b[0m\u001b[0;34m\u001b[0m\u001b[0m\n",
            "\u001b[0;31mTypeError\u001b[0m: 'str' object doesn't support item deletion"
          ]
        }
      ]
    },
    {
      "cell_type": "code",
      "metadata": {
        "id": "vabi3sECQJXy",
        "colab_type": "code",
        "colab": {}
      },
      "source": [
        "#String é um objeto imutavel"
      ],
      "execution_count": null,
      "outputs": []
    },
    {
      "cell_type": "code",
      "metadata": {
        "id": "XKdr2-mnQNZN",
        "colab_type": "code",
        "colab": {
          "base_uri": "https://localhost:8080/",
          "height": 34
        },
        "outputId": "5a53698a-7130-40a6-c228-adaf563d6e14"
      },
      "source": [
        "#Including aspas em Strings\n",
        "#String inicial\n",
        "String1 = '''O IGTI possui \"bootcamp\"e 'MBA' em TI'''\n",
        "print(String1)"
      ],
      "execution_count": null,
      "outputs": [
        {
          "output_type": "stream",
          "text": [
            "O IGTI possui \"bootcamp\"e 'MBA' em TI\n"
          ],
          "name": "stdout"
        }
      ]
    },
    {
      "cell_type": "code",
      "metadata": {
        "id": "A94sMHZzQZ4D",
        "colab_type": "code",
        "colab": {
          "base_uri": "https://localhost:8080/",
          "height": 34
        },
        "outputId": "93296923-fdf7-46f7-8ff2-4f5864720ea9"
      },
      "source": [
        "#Realizando o print das aspas simples\n",
        "String1 = 'O IGTI possui \"bootcamp\"e \\'MBA\\' em TI'\n",
        "print(String1)"
      ],
      "execution_count": null,
      "outputs": [
        {
          "output_type": "stream",
          "text": [
            "O IGTI possui \"bootcamp\"e 'MBA' em TI\n"
          ],
          "name": "stdout"
        }
      ]
    },
    {
      "cell_type": "code",
      "metadata": {
        "id": "SLxVwb0tQtTs",
        "colab_type": "code",
        "colab": {
          "base_uri": "https://localhost:8080/",
          "height": 34
        },
        "outputId": "2baad28d-9376-4a77-bab0-400be9522393"
      },
      "source": [
        "#Realizando o print de aspas duplas\n",
        "String1 = \"O IGTI possui \\\"bootcamp\\\"e 'MBA' em TI\"\n",
        "print(String1)"
      ],
      "execution_count": null,
      "outputs": [
        {
          "output_type": "stream",
          "text": [
            "O IGTI possui \"bootcamp\"e 'MBA' em TI\n"
          ],
          "name": "stdout"
        }
      ]
    },
    {
      "cell_type": "code",
      "metadata": {
        "id": "rTWOilIXQ7yo",
        "colab_type": "code",
        "colab": {
          "base_uri": "https://localhost:8080/",
          "height": 34
        },
        "outputId": "1c7bdc30-b464-40cf-87f5-ee13e4861d79"
      },
      "source": [
        "#Transformando tipo numerico em String e vice-versa\n",
        "#cria um numero inteiro\n",
        "n_inteiro = 100\n",
        "type(n_inteiro)"
      ],
      "execution_count": null,
      "outputs": [
        {
          "output_type": "execute_result",
          "data": {
            "text/plain": [
              "int"
            ]
          },
          "metadata": {
            "tags": []
          },
          "execution_count": 69
        }
      ]
    },
    {
      "cell_type": "code",
      "metadata": {
        "id": "qKiImvT4RMZ0",
        "colab_type": "code",
        "colab": {
          "base_uri": "https://localhost:8080/",
          "height": 51
        },
        "outputId": "686dfeb8-57e3-4ac6-98f6-d82e541da27c"
      },
      "source": [
        "#transforma o int em string\n",
        "string_n_inteiro = str(n_inteiro)\n",
        "print(string_n_inteiro)\n",
        "type(string_n_inteiro)"
      ],
      "execution_count": null,
      "outputs": [
        {
          "output_type": "stream",
          "text": [
            "100\n"
          ],
          "name": "stdout"
        },
        {
          "output_type": "execute_result",
          "data": {
            "text/plain": [
              "str"
            ]
          },
          "metadata": {
            "tags": []
          },
          "execution_count": 72
        }
      ]
    },
    {
      "cell_type": "code",
      "metadata": {
        "id": "OZIYIhPtRU8G",
        "colab_type": "code",
        "colab": {
          "base_uri": "https://localhost:8080/",
          "height": 51
        },
        "outputId": "112d63e7-923c-4f1b-ea1b-f67b42221f95"
      },
      "source": [
        "print(int(string_n_inteiro))\n",
        "type(int(string_n_inteiro))"
      ],
      "execution_count": null,
      "outputs": [
        {
          "output_type": "stream",
          "text": [
            "100\n"
          ],
          "name": "stdout"
        },
        {
          "output_type": "execute_result",
          "data": {
            "text/plain": [
              "int"
            ]
          },
          "metadata": {
            "tags": []
          },
          "execution_count": 71
        }
      ]
    },
    {
      "cell_type": "code",
      "metadata": {
        "id": "SR_gQylmRZry",
        "colab_type": "code",
        "colab": {}
      },
      "source": [
        "##Listas\n",
        "#mutaveis\n",
        "#podem possuir varios tipos de elementos\n",
        "#ordenadas\n",
        "#começam com o indice [0]"
      ],
      "execution_count": null,
      "outputs": []
    },
    {
      "cell_type": "code",
      "metadata": {
        "id": "Y9ns7U72SJmj",
        "colab_type": "code",
        "colab": {
          "base_uri": "https://localhost:8080/",
          "height": 68
        },
        "outputId": "754c7b17-da3d-47c9-f273-71ca1e0a28ac"
      },
      "source": [
        "#criando uma lista em Python\n",
        "lista = []\n",
        "print(\"Lista vazia:\")\n",
        "print(lista)\n",
        "print(type(lista))"
      ],
      "execution_count": null,
      "outputs": [
        {
          "output_type": "stream",
          "text": [
            "Lista vazia:\n",
            "[]\n",
            "<class 'list'>\n"
          ],
          "name": "stdout"
        }
      ]
    },
    {
      "cell_type": "code",
      "metadata": {
        "id": "TPiHED2sSS93",
        "colab_type": "code",
        "colab": {
          "base_uri": "https://localhost:8080/",
          "height": 51
        },
        "outputId": "1d076f78-c171-4a2d-f8a8-46e0894f30f9"
      },
      "source": [
        "#lista com uma string\n",
        "lista = ['IGTI']\n",
        "print(\"Lista de uma string:\")\n",
        "print(lista)"
      ],
      "execution_count": null,
      "outputs": [
        {
          "output_type": "stream",
          "text": [
            "Lista de uma string:\n",
            "['IGTI']\n"
          ],
          "name": "stdout"
        }
      ]
    },
    {
      "cell_type": "code",
      "metadata": {
        "id": "fENbl6I7Scot",
        "colab_type": "code",
        "colab": {
          "base_uri": "https://localhost:8080/",
          "height": 85
        },
        "outputId": "c81c3a4d-2005-475a-b3ac-269bed0a519e"
      },
      "source": [
        "#lista com varios valores\n",
        "lista = [\"IGTI\",\"MBA\",\"Python\"]\n",
        "print(\"Lista com varias strings:\")\n",
        "print(lista)\n",
        "print(lista[0])\n",
        "print(lista[2])"
      ],
      "execution_count": null,
      "outputs": [
        {
          "output_type": "stream",
          "text": [
            "Lista com varias strings:\n",
            "['IGTI', 'MBA', 'Python']\n",
            "IGTI\n",
            "Python\n"
          ],
          "name": "stdout"
        }
      ]
    },
    {
      "cell_type": "code",
      "metadata": {
        "id": "G_wex1dXSevW",
        "colab_type": "code",
        "colab": {
          "base_uri": "https://localhost:8080/",
          "height": 85
        },
        "outputId": "a7e89f3f-5293-4958-9caf-55d7604a09a9"
      },
      "source": [
        "#criando listas de listas\n",
        "lista = [[\"IGTI\",\"MBA\"],[\"Python\"]]\n",
        "print(\"Lista com varias dimensões:\")\n",
        "print(lista)\n",
        "print(lista[0])\n",
        "print(lista[1])"
      ],
      "execution_count": null,
      "outputs": [
        {
          "output_type": "stream",
          "text": [
            "Lista com varias dimensões:\n",
            "[['IGTI', 'MBA'], ['Python']]\n",
            "['IGTI', 'MBA']\n",
            "['Python']\n"
          ],
          "name": "stdout"
        }
      ]
    },
    {
      "cell_type": "code",
      "metadata": {
        "id": "-ca-ZPNISa6F",
        "colab_type": "code",
        "colab": {
          "base_uri": "https://localhost:8080/",
          "height": 51
        },
        "outputId": "7517db77-c370-47c0-b3c8-795b2af0dfc3"
      },
      "source": [
        "#criando uma lista com diferentes tipos de dados\n",
        "lista = [[\"IGTI\",\"MBA\"], 123, \"Python\"]\n",
        "print(\"Lista com varias dimensões e valores:\")\n",
        "print(lista)"
      ],
      "execution_count": null,
      "outputs": [
        {
          "output_type": "stream",
          "text": [
            "Lista com varias dimensões e valores:\n",
            "[['IGTI', 'MBA'], 123, 'Python']\n"
          ],
          "name": "stdout"
        }
      ]
    },
    {
      "cell_type": "code",
      "metadata": {
        "id": "QK_I6_48TLCC",
        "colab_type": "code",
        "colab": {
          "base_uri": "https://localhost:8080/",
          "height": 34
        },
        "outputId": "b3004fe9-2db7-4248-82e8-d4a221aed5f6"
      },
      "source": [
        "#adicionando elementos em uma lista\n",
        "lista = [1,2,3,4]\n",
        "print(lista)"
      ],
      "execution_count": null,
      "outputs": [
        {
          "output_type": "stream",
          "text": [
            "[1, 2, 3, 4]\n"
          ],
          "name": "stdout"
        }
      ]
    },
    {
      "cell_type": "code",
      "metadata": {
        "id": "6ILSmQF9Tgdn",
        "colab_type": "code",
        "colab": {
          "base_uri": "https://localhost:8080/",
          "height": 34
        },
        "outputId": "e75afaa4-cffc-47c5-af95-0ea6f8eaea48"
      },
      "source": [
        "#adicionando elemento com append\n",
        "#append adiciona cada elemento de uma vez\n",
        "lista.append(5)\n",
        "print(lista)"
      ],
      "execution_count": null,
      "outputs": [
        {
          "output_type": "stream",
          "text": [
            "[1, 2, 3, 4, 5]\n"
          ],
          "name": "stdout"
        }
      ]
    },
    {
      "cell_type": "code",
      "metadata": {
        "id": "CXFhOOPxTjqm",
        "colab_type": "code",
        "colab": {
          "base_uri": "https://localhost:8080/",
          "height": 34
        },
        "outputId": "b45acad0-4727-402a-b8be-925f88f9c69f"
      },
      "source": [
        "lista.append(\"IGTI\")\n",
        "print(lista)"
      ],
      "execution_count": null,
      "outputs": [
        {
          "output_type": "stream",
          "text": [
            "[1, 2, 3, 4, 5, 'IGTI']\n"
          ],
          "name": "stdout"
        }
      ]
    },
    {
      "cell_type": "code",
      "metadata": {
        "id": "pLbNxMbiTz9I",
        "colab_type": "code",
        "colab": {
          "base_uri": "https://localhost:8080/",
          "height": 34
        },
        "outputId": "3b51dd4c-066d-42d3-e8ea-1a2857443bc0"
      },
      "source": [
        "#adicionando elemento com insert()\n",
        "lista = []\n",
        "print(lista)"
      ],
      "execution_count": null,
      "outputs": [
        {
          "output_type": "stream",
          "text": [
            "[]\n"
          ],
          "name": "stdout"
        }
      ]
    },
    {
      "cell_type": "code",
      "metadata": {
        "id": "MhH6-66-T7DN",
        "colab_type": "code",
        "colab": {
          "base_uri": "https://localhost:8080/",
          "height": 34
        },
        "outputId": "214b2074-daaa-4f67-c5f7-25802531c8ae"
      },
      "source": [
        "#adiciona elementos com append\n",
        "lista.append(\"Azul\")\n",
        "lista.append(\"Verde\")\n",
        "lista.append(\"Vermelho\")\n",
        "lista.append(\"Amarelo\")\n",
        "print(lista)"
      ],
      "execution_count": null,
      "outputs": [
        {
          "output_type": "stream",
          "text": [
            "['Azul', 'Verde', 'Vermelho', 'Amarelo']\n"
          ],
          "name": "stdout"
        }
      ]
    },
    {
      "cell_type": "code",
      "metadata": {
        "id": "ZViOqc0DUGJP",
        "colab_type": "code",
        "colab": {
          "base_uri": "https://localhost:8080/",
          "height": 34
        },
        "outputId": "a96138d1-eccf-475d-ef08-fda8494d6603"
      },
      "source": [
        "lista.insert(2, \"Preto\")\n",
        "lista.insert(0, \"Rosa\")\n",
        "print(lista)"
      ],
      "execution_count": null,
      "outputs": [
        {
          "output_type": "stream",
          "text": [
            "['Rosa', 'Azul', 'Verde', 'Preto', 'Vermelho', 'Amarelo']\n"
          ],
          "name": "stdout"
        }
      ]
    },
    {
      "cell_type": "code",
      "metadata": {
        "id": "W7OpULo7UU7H",
        "colab_type": "code",
        "colab": {
          "base_uri": "https://localhost:8080/",
          "height": 34
        },
        "outputId": "c811e0c3-528e-4f7a-94e5-5361ae148957"
      },
      "source": [
        "#adicionando varios elementos de uma vez - extend()\n",
        "lista.extend([\"Branco\", \"#008000\", \"#00008B\"])\n",
        "print(lista)"
      ],
      "execution_count": null,
      "outputs": [
        {
          "output_type": "stream",
          "text": [
            "['Rosa', 'Azul', 'Verde', 'Preto', 'Vermelho', 'Amarelo', 'Branco', '#008000', '#00008B']\n"
          ],
          "name": "stdout"
        }
      ]
    },
    {
      "cell_type": "code",
      "metadata": {
        "id": "eTVY1qe0UsaO",
        "colab_type": "code",
        "colab": {
          "base_uri": "https://localhost:8080/",
          "height": 85
        },
        "outputId": "cb3b0cd0-8c90-4830-f69a-6cb7ac42f9b0"
      },
      "source": [
        "#acessando elementos em uma lista\n",
        "#criando uma lista com multiplos valores\n",
        "lista = ['Azul', 'Verde', 'Vermelho', 'Amarelo']\n",
        "print(lista[0])\n",
        "print(lista[2])\n",
        "print(lista[-1])\n",
        "print(lista[-2])"
      ],
      "execution_count": null,
      "outputs": [
        {
          "output_type": "stream",
          "text": [
            "Azul\n",
            "Vermelho\n",
            "Amarelo\n",
            "Vermelho\n"
          ],
          "name": "stdout"
        }
      ]
    },
    {
      "cell_type": "code",
      "metadata": {
        "id": "E3qkI2XpU3o4",
        "colab_type": "code",
        "colab": {
          "base_uri": "https://localhost:8080/",
          "height": 34
        },
        "outputId": "d195dde6-7485-45cf-ff1b-d39d0b2183d1"
      },
      "source": [
        "#criando uma lista aninhada\n",
        "lista = ['Azul', 'Verde', 'Vermelho', 'Amarelo', [100,200,300,400]]\n",
        "print(lista[4][1])"
      ],
      "execution_count": null,
      "outputs": [
        {
          "output_type": "stream",
          "text": [
            "200\n"
          ],
          "name": "stdout"
        }
      ]
    },
    {
      "cell_type": "code",
      "metadata": {
        "id": "zSNVaqx_VSaV",
        "colab_type": "code",
        "colab": {
          "base_uri": "https://localhost:8080/",
          "height": 34
        },
        "outputId": "5deb2894-7f2a-490e-e262-e286115504a2"
      },
      "source": [
        "#removendo elementos de uma lista\n",
        "lista = [1,2,3,4,5,6,7,8,9,10,11,12,'Azul', 'Verde',35,'Amarelo']\n",
        "print(lista)"
      ],
      "execution_count": null,
      "outputs": [
        {
          "output_type": "stream",
          "text": [
            "[1, 2, 3, 4, 5, 6, 7, 8, 9, 10, 11, 12, 'Azul', 'Verde', 35, 'Amarelo']\n"
          ],
          "name": "stdout"
        }
      ]
    },
    {
      "cell_type": "code",
      "metadata": {
        "id": "Jszyl6LDVhuR",
        "colab_type": "code",
        "colab": {
          "base_uri": "https://localhost:8080/",
          "height": 34
        },
        "outputId": "70d3ddd8-8d4d-4562-a036-9d262bd612a9"
      },
      "source": [
        "lista.remove(5)\n",
        "lista.remove('Verde')\n",
        "print(lista)"
      ],
      "execution_count": null,
      "outputs": [
        {
          "output_type": "stream",
          "text": [
            "[1, 2, 3, 4, 6, 7, 8, 9, 10, 11, 12, 'Azul', 35, 'Amarelo']\n"
          ],
          "name": "stdout"
        }
      ]
    },
    {
      "cell_type": "code",
      "metadata": {
        "id": "D60q7IJeVl7x",
        "colab_type": "code",
        "colab": {
          "base_uri": "https://localhost:8080/",
          "height": 34
        },
        "outputId": "b6fd6392-0093-4095-aa17-84039b88b0d8"
      },
      "source": [
        "#removendo o ultimo elemento com pop\n",
        "lista.pop()\n",
        "print(lista)"
      ],
      "execution_count": null,
      "outputs": [
        {
          "output_type": "stream",
          "text": [
            "[1, 2, 3, 4, 6, 7, 8, 9, 10, 11, 12, 'Azul', 35]\n"
          ],
          "name": "stdout"
        }
      ]
    },
    {
      "cell_type": "code",
      "metadata": {
        "id": "3nJClV5uVsPD",
        "colab_type": "code",
        "colab": {
          "base_uri": "https://localhost:8080/",
          "height": 34
        },
        "outputId": "878bf0c5-62da-4b27-be50-b84530be2817"
      },
      "source": [
        "#removendo o elemento de uma posicao especifica com o pop\n",
        "lista.pop(11)\n",
        "print(lista)"
      ],
      "execution_count": null,
      "outputs": [
        {
          "output_type": "stream",
          "text": [
            "[1, 2, 3, 4, 6, 7, 8, 9, 10, 11, 12, 35]\n"
          ],
          "name": "stdout"
        }
      ]
    },
    {
      "cell_type": "code",
      "metadata": {
        "id": "o6mvyOuwV7RB",
        "colab_type": "code",
        "colab": {}
      },
      "source": [
        "#Tuplas\n",
        "#imutaveis\n",
        "#podem possuir varios elementos"
      ],
      "execution_count": null,
      "outputs": []
    },
    {
      "cell_type": "code",
      "metadata": {
        "id": "VcFoQJ9RWTSg",
        "colab_type": "code",
        "colab": {
          "base_uri": "https://localhost:8080/",
          "height": 51
        },
        "outputId": "67f68f0f-7e3a-435f-e985-a4c5fedf1fb9"
      },
      "source": [
        "#criando uma tupla vazia\n",
        "tupla_1 = ()\n",
        "print(tupla_1)\n",
        "type(tupla_1)"
      ],
      "execution_count": null,
      "outputs": [
        {
          "output_type": "stream",
          "text": [
            "()\n"
          ],
          "name": "stdout"
        },
        {
          "output_type": "execute_result",
          "data": {
            "text/plain": [
              "tuple"
            ]
          },
          "metadata": {
            "tags": []
          },
          "execution_count": 114
        }
      ]
    },
    {
      "cell_type": "code",
      "metadata": {
        "id": "vJYSkJIgWXji",
        "colab_type": "code",
        "colab": {
          "base_uri": "https://localhost:8080/",
          "height": 34
        },
        "outputId": "e651f4c1-7305-4fb4-d0ab-d6abcf66bea2"
      },
      "source": [
        "#criando uma tupla com string\n",
        "tupla_1 = (\"IGTI\", \"Python\")\n",
        "print(tupla_1)"
      ],
      "execution_count": null,
      "outputs": [
        {
          "output_type": "stream",
          "text": [
            "('IGTI', 'Python')\n"
          ],
          "name": "stdout"
        }
      ]
    },
    {
      "cell_type": "code",
      "metadata": {
        "id": "7ZlPdSSiWsUc",
        "colab_type": "code",
        "colab": {
          "base_uri": "https://localhost:8080/",
          "height": 34
        },
        "outputId": "152f011c-dd72-4505-9852-e29602a7a5e5"
      },
      "source": [
        "#criando uma tupla atraves de uma lista\n",
        "lista_1 = [1,2,4,5,6]\n",
        "print(tuple(lista_1))"
      ],
      "execution_count": null,
      "outputs": [
        {
          "output_type": "stream",
          "text": [
            "(1, 2, 4, 5, 6)\n"
          ],
          "name": "stdout"
        }
      ]
    },
    {
      "cell_type": "code",
      "metadata": {
        "id": "KKMTJW_EW1vf",
        "colab_type": "code",
        "colab": {
          "base_uri": "https://localhost:8080/",
          "height": 34
        },
        "outputId": "9594fc87-33a2-4ba8-d659-92604c82b523"
      },
      "source": [
        "#criando uma tupla atraves da palavra tuple()\n",
        "tupla_1 = tuple(\"IGTI\")\n",
        "print(tupla_1)"
      ],
      "execution_count": null,
      "outputs": [
        {
          "output_type": "stream",
          "text": [
            "('I', 'G', 'T', 'I')\n"
          ],
          "name": "stdout"
        }
      ]
    },
    {
      "cell_type": "code",
      "metadata": {
        "id": "__LUQ6tPW_qu",
        "colab_type": "code",
        "colab": {
          "base_uri": "https://localhost:8080/",
          "height": 34
        },
        "outputId": "fc7d5858-7750-4ac7-80b2-47de7e344806"
      },
      "source": [
        "#tuplas aninhadas\n",
        "tupla_1 = (0,1,2,3)\n",
        "tupla_2 = (\"Python\",\"IGTI\")\n",
        "tupla_3 = (tupla_1,tupla_2)\n",
        "print(tupla_3)"
      ],
      "execution_count": null,
      "outputs": [
        {
          "output_type": "stream",
          "text": [
            "((0, 1, 2, 3), ('Python', 'IGTI'))\n"
          ],
          "name": "stdout"
        }
      ]
    },
    {
      "cell_type": "code",
      "metadata": {
        "id": "GGVrY5mrY3F0",
        "colab_type": "code",
        "colab": {
          "base_uri": "https://localhost:8080/",
          "height": 68
        },
        "outputId": "4de6c5c0-8477-479e-fb08-075e7d1bb9af"
      },
      "source": [
        "#acessando elementos de uma tupla\n",
        "tupla_1 = tuple([1,2,3,4,5])\n",
        "print(tupla_1[0])\n",
        "print(tupla_1[-1])\n",
        "print(tupla_1[-2])"
      ],
      "execution_count": null,
      "outputs": [
        {
          "output_type": "stream",
          "text": [
            "1\n",
            "5\n",
            "4\n"
          ],
          "name": "stdout"
        }
      ]
    },
    {
      "cell_type": "code",
      "metadata": {
        "id": "q35l7rT2ZB_L",
        "colab_type": "code",
        "colab": {
          "base_uri": "https://localhost:8080/",
          "height": 34
        },
        "outputId": "7dfd85dc-4800-4255-e0bb-f8ec5e529f40"
      },
      "source": [
        "#deletando e atualizando elementos de uma tupla\n",
        "#definindo uma tupla\n",
        "tupla_1 = tuple([1,2,3,4,5])\n",
        "print(tupla_1)"
      ],
      "execution_count": null,
      "outputs": [
        {
          "output_type": "stream",
          "text": [
            "(1, 2, 3, 4, 5)\n"
          ],
          "name": "stdout"
        }
      ]
    },
    {
      "cell_type": "code",
      "metadata": {
        "id": "7catL3eyZO39",
        "colab_type": "code",
        "colab": {
          "base_uri": "https://localhost:8080/",
          "height": 180
        },
        "outputId": "c16d74f9-d734-47f7-b930-b7b18b7b22cf"
      },
      "source": [
        "#atualizar um valor da tupla\n",
        "tupla_1[0] = -1"
      ],
      "execution_count": null,
      "outputs": [
        {
          "output_type": "error",
          "ename": "TypeError",
          "evalue": "ignored",
          "traceback": [
            "\u001b[0;31m---------------------------------------------------------------------------\u001b[0m",
            "\u001b[0;31mTypeError\u001b[0m                                 Traceback (most recent call last)",
            "\u001b[0;32m<ipython-input-127-a2dd60c176be>\u001b[0m in \u001b[0;36m<module>\u001b[0;34m()\u001b[0m\n\u001b[1;32m      1\u001b[0m \u001b[0;31m#atualizar um valor da tupla\u001b[0m\u001b[0;34m\u001b[0m\u001b[0;34m\u001b[0m\u001b[0;34m\u001b[0m\u001b[0m\n\u001b[0;32m----> 2\u001b[0;31m \u001b[0mtupla_1\u001b[0m\u001b[0;34m[\u001b[0m\u001b[0;36m0\u001b[0m\u001b[0;34m]\u001b[0m \u001b[0;34m=\u001b[0m \u001b[0;34m-\u001b[0m\u001b[0;36m1\u001b[0m\u001b[0;34m\u001b[0m\u001b[0;34m\u001b[0m\u001b[0m\n\u001b[0m",
            "\u001b[0;31mTypeError\u001b[0m: 'tuple' object does not support item assignment"
          ]
        }
      ]
    },
    {
      "cell_type": "code",
      "metadata": {
        "id": "YROAHLMlZUmY",
        "colab_type": "code",
        "colab": {
          "base_uri": "https://localhost:8080/",
          "height": 180
        },
        "outputId": "3280f352-5b76-4e97-8b38-afec149ac719"
      },
      "source": [
        "#deletando um elemento de uma tupla\n",
        "del tupla_1[2]"
      ],
      "execution_count": null,
      "outputs": [
        {
          "output_type": "error",
          "ename": "TypeError",
          "evalue": "ignored",
          "traceback": [
            "\u001b[0;31m---------------------------------------------------------------------------\u001b[0m",
            "\u001b[0;31mTypeError\u001b[0m                                 Traceback (most recent call last)",
            "\u001b[0;32m<ipython-input-129-d438c3009c24>\u001b[0m in \u001b[0;36m<module>\u001b[0;34m()\u001b[0m\n\u001b[1;32m      1\u001b[0m \u001b[0;31m#deletando um elemento de uma tupla\u001b[0m\u001b[0;34m\u001b[0m\u001b[0;34m\u001b[0m\u001b[0;34m\u001b[0m\u001b[0m\n\u001b[0;32m----> 2\u001b[0;31m \u001b[0;32mdel\u001b[0m \u001b[0mtupla_1\u001b[0m\u001b[0;34m[\u001b[0m\u001b[0;36m2\u001b[0m\u001b[0;34m]\u001b[0m\u001b[0;34m\u001b[0m\u001b[0;34m\u001b[0m\u001b[0m\n\u001b[0m",
            "\u001b[0;31mTypeError\u001b[0m: 'tuple' object doesn't support item deletion"
          ]
        }
      ]
    },
    {
      "cell_type": "code",
      "metadata": {
        "id": "IY7FsHEuZZib",
        "colab_type": "code",
        "colab": {}
      },
      "source": [
        "#TUPLAS SAO IMUTAVEIS!#"
      ],
      "execution_count": null,
      "outputs": []
    },
    {
      "cell_type": "code",
      "metadata": {
        "id": "3z4PvfIMZbds",
        "colab_type": "code",
        "colab": {
          "base_uri": "https://localhost:8080/",
          "height": 51
        },
        "outputId": "947468d8-0f90-4fa3-9d11-e6d89f44125d"
      },
      "source": [
        "#valores booleanos\n",
        "#mostrando os tipos de dados booleanos\n",
        "print(type(True))\n",
        "print(type(False))"
      ],
      "execution_count": null,
      "outputs": [
        {
          "output_type": "stream",
          "text": [
            "<class 'bool'>\n",
            "<class 'bool'>\n"
          ],
          "name": "stdout"
        }
      ]
    },
    {
      "cell_type": "code",
      "metadata": {
        "id": "OPioZc8TZfMa",
        "colab_type": "code",
        "colab": {}
      },
      "source": [
        "#conjuntos\n",
        "#desordenada\n",
        "#mutavel\n",
        "#sem elementos duplicados"
      ],
      "execution_count": null,
      "outputs": []
    },
    {
      "cell_type": "code",
      "metadata": {
        "id": "dhve65w2aY5E",
        "colab_type": "code",
        "colab": {
          "base_uri": "https://localhost:8080/",
          "height": 51
        },
        "outputId": "f4217b07-db49-4596-c497-c5c2eb23a011"
      },
      "source": [
        "#criando um conjunto set em python\n",
        "conjunto_a = set()\n",
        "print(conjunto_a)\n",
        "type(conjunto_a)"
      ],
      "execution_count": null,
      "outputs": [
        {
          "output_type": "stream",
          "text": [
            "set()\n"
          ],
          "name": "stdout"
        },
        {
          "output_type": "execute_result",
          "data": {
            "text/plain": [
              "set"
            ]
          },
          "metadata": {
            "tags": []
          },
          "execution_count": 138
        }
      ]
    },
    {
      "cell_type": "code",
      "metadata": {
        "id": "dDT2-tT9afLT",
        "colab_type": "code",
        "colab": {
          "base_uri": "https://localhost:8080/",
          "height": 34
        },
        "outputId": "d020027a-2e5c-45c3-b13a-e93b5036ef4d"
      },
      "source": [
        "#criando um conjunto via uma string\n",
        "conjunto_a = set(\"Python\")\n",
        "print(conjunto_a)"
      ],
      "execution_count": null,
      "outputs": [
        {
          "output_type": "stream",
          "text": [
            "{'o', 'h', 't', 'y', 'n', 'P'}\n"
          ],
          "name": "stdout"
        }
      ]
    },
    {
      "cell_type": "code",
      "metadata": {
        "id": "vROrgp5Aalx6",
        "colab_type": "code",
        "colab": {
          "base_uri": "https://localhost:8080/",
          "height": 34
        },
        "outputId": "c6103a0a-f647-451f-e468-5ec07fc00009"
      },
      "source": [
        "#criando usando uma lista\n",
        "conjunto_a = set([\"IGTI\", \"MBA\", \"IGTI\"]) #nao aceita valores duplicados\n",
        "print(conjunto_a)"
      ],
      "execution_count": null,
      "outputs": [
        {
          "output_type": "stream",
          "text": [
            "{'IGTI', 'MBA'}\n"
          ],
          "name": "stdout"
        }
      ]
    },
    {
      "cell_type": "code",
      "metadata": {
        "id": "6QyK83wbazbr",
        "colab_type": "code",
        "colab": {
          "base_uri": "https://localhost:8080/",
          "height": 34
        },
        "outputId": "1430d9d5-7dd3-4449-c46e-c0478894e9dd"
      },
      "source": [
        "#criando um conjunto com varios diferentes tipos\n",
        "conjunto_a = set([1,2,\"IGTI\", 4, \"BOOTCAMP\", 6, \"MBA\"])\n",
        "print(conjunto_a)"
      ],
      "execution_count": null,
      "outputs": [
        {
          "output_type": "stream",
          "text": [
            "{1, 2, 4, 'BOOTCAMP', 6, 'IGTI', 'MBA'}\n"
          ],
          "name": "stdout"
        }
      ]
    },
    {
      "cell_type": "code",
      "metadata": {
        "id": "UBPhyorWbOLt",
        "colab_type": "code",
        "colab": {
          "base_uri": "https://localhost:8080/",
          "height": 34
        },
        "outputId": "34fd452b-00b3-4f10-e1bc-e4e2d4905882"
      },
      "source": [
        "conjunto_a = set()\n",
        "print(conjunto_a)"
      ],
      "execution_count": null,
      "outputs": [
        {
          "output_type": "stream",
          "text": [
            "set()\n"
          ],
          "name": "stdout"
        }
      ]
    },
    {
      "cell_type": "code",
      "metadata": {
        "id": "mc7DE2NibTtG",
        "colab_type": "code",
        "colab": {
          "base_uri": "https://localhost:8080/",
          "height": 34
        },
        "outputId": "68ca5d57-9f36-42c1-d3f7-d4db850a5d39"
      },
      "source": [
        "conjunto_a.add(8)\n",
        "conjunto_a.add(9)\n",
        "conjunto_a.add((6,7))\n",
        "print(conjunto_a)"
      ],
      "execution_count": null,
      "outputs": [
        {
          "output_type": "stream",
          "text": [
            "{8, 9, (6, 7)}\n"
          ],
          "name": "stdout"
        }
      ]
    },
    {
      "cell_type": "code",
      "metadata": {
        "id": "2k0eYbUibbvt",
        "colab_type": "code",
        "colab": {
          "base_uri": "https://localhost:8080/",
          "height": 34
        },
        "outputId": "9d5b226e-eacb-4021-9e68-df266a3321d4"
      },
      "source": [
        "#adicionando elementos com a funcao update\n",
        "conjunto_a.update([10,11])\n",
        "print(conjunto_a)"
      ],
      "execution_count": null,
      "outputs": [
        {
          "output_type": "stream",
          "text": [
            "{(6, 7), 8, 9, 10, 11}\n"
          ],
          "name": "stdout"
        }
      ]
    },
    {
      "cell_type": "code",
      "metadata": {
        "id": "TiOZPr3BbnIB",
        "colab_type": "code",
        "colab": {
          "base_uri": "https://localhost:8080/",
          "height": 34
        },
        "outputId": "27a8cc40-06de-4531-9b6f-a42ecbfc3d63"
      },
      "source": [
        "#acessando elementos em um conjunto\n",
        "conjunto_a = set([\"IGTI\",\"BOOTCAMP\",\"PYTHON\"])\n",
        "print(conjunto_a)"
      ],
      "execution_count": null,
      "outputs": [
        {
          "output_type": "stream",
          "text": [
            "{'IGTI', 'PYTHON', 'BOOTCAMP'}\n"
          ],
          "name": "stdout"
        }
      ]
    },
    {
      "cell_type": "code",
      "metadata": {
        "id": "m7xE6p1rb1Fr",
        "colab_type": "code",
        "colab": {
          "base_uri": "https://localhost:8080/",
          "height": 34
        },
        "outputId": "a6524e0e-8bcc-406e-f9e6-dda6bc67e419"
      },
      "source": [
        "#acessando elementos atraves de um loop\n",
        "for i in conjunto_a:\n",
        "  print(i, end = \" \")"
      ],
      "execution_count": null,
      "outputs": [
        {
          "output_type": "stream",
          "text": [
            "IGTI PYTHON BOOTCAMP "
          ],
          "name": "stdout"
        }
      ]
    },
    {
      "cell_type": "code",
      "metadata": {
        "id": "NRUhNoYSb97G",
        "colab_type": "code",
        "colab": {
          "base_uri": "https://localhost:8080/",
          "height": 34
        },
        "outputId": "1c876501-2c84-4b57-f570-d0ec86b169a9"
      },
      "source": [
        "#verificando se um elemento pertence ao conjunto\n",
        "print(\"IGTI\" in conjunto_a)"
      ],
      "execution_count": null,
      "outputs": [
        {
          "output_type": "stream",
          "text": [
            "True\n"
          ],
          "name": "stdout"
        }
      ]
    },
    {
      "cell_type": "code",
      "metadata": {
        "id": "wvKjPKRYcEoS",
        "colab_type": "code",
        "colab": {
          "base_uri": "https://localhost:8080/",
          "height": 34
        },
        "outputId": "30744068-a9ec-4f41-e3a7-4683b47aa938"
      },
      "source": [
        "#removendo elementos de um conjunto\n",
        "conjunto_a = set([1,2,3,4,5,6,7,8,9,10,11,12])\n",
        "print(conjunto_a)"
      ],
      "execution_count": null,
      "outputs": [
        {
          "output_type": "stream",
          "text": [
            "{1, 2, 3, 4, 5, 6, 7, 8, 9, 10, 11, 12}\n"
          ],
          "name": "stdout"
        }
      ]
    },
    {
      "cell_type": "code",
      "metadata": {
        "id": "aD0cjwF6ciB9",
        "colab_type": "code",
        "colab": {
          "base_uri": "https://localhost:8080/",
          "height": 34
        },
        "outputId": "632d7d48-4a1e-4da0-cc8d-3ade0c40513e"
      },
      "source": [
        "conjunto_a.remove(5)\n",
        "conjunto_a.remove(6)\n",
        "print(conjunto_a)"
      ],
      "execution_count": null,
      "outputs": [
        {
          "output_type": "stream",
          "text": [
            "{1, 2, 3, 4, 7, 8, 9, 10, 11, 12}\n"
          ],
          "name": "stdout"
        }
      ]
    },
    {
      "cell_type": "code",
      "metadata": {
        "id": "OiWroqP6cnZ3",
        "colab_type": "code",
        "colab": {
          "base_uri": "https://localhost:8080/",
          "height": 34
        },
        "outputId": "e844c6bb-4734-4e5b-efb9-566a4e4cf302"
      },
      "source": [
        "#metodo discard\n",
        "conjunto_a.discard(8)\n",
        "conjunto_a.discard(9)\n",
        "print(conjunto_a)"
      ],
      "execution_count": null,
      "outputs": [
        {
          "output_type": "stream",
          "text": [
            "{1, 2, 3, 4, 7, 10, 11, 12}\n"
          ],
          "name": "stdout"
        }
      ]
    },
    {
      "cell_type": "code",
      "metadata": {
        "id": "SoztfqzucxW2",
        "colab_type": "code",
        "colab": {
          "base_uri": "https://localhost:8080/",
          "height": 34
        },
        "outputId": "904d02ae-7b08-4802-958f-7f3bd567af9c"
      },
      "source": [
        "#metodo pop\n",
        "conjunto_a.pop()\n",
        "print(conjunto_a)"
      ],
      "execution_count": null,
      "outputs": [
        {
          "output_type": "stream",
          "text": [
            "{2, 3, 4, 7, 10, 11, 12}\n"
          ],
          "name": "stdout"
        }
      ]
    },
    {
      "cell_type": "code",
      "metadata": {
        "id": "DTADYWZ9c6qb",
        "colab_type": "code",
        "colab": {
          "base_uri": "https://localhost:8080/",
          "height": 34
        },
        "outputId": "e057064d-c394-4e43-d8ca-83b13bde333e"
      },
      "source": [
        "#limpando o conjunto com clear\n",
        "conjunto_a.clear()\n",
        "print(conjunto_a)"
      ],
      "execution_count": null,
      "outputs": [
        {
          "output_type": "stream",
          "text": [
            "set()\n"
          ],
          "name": "stdout"
        }
      ]
    },
    {
      "cell_type": "code",
      "metadata": {
        "id": "DS65eir2d1Ce",
        "colab_type": "code",
        "colab": {
          "base_uri": "https://localhost:8080/",
          "height": 51
        },
        "outputId": "b9f55bca-81c5-49d3-ab13-0c1c232d7066"
      },
      "source": [
        "conjunto_a = set([1,2,3])\n",
        "conjunto_b = set([3,4,5])\n",
        "print(conjunto_a)\n",
        "print(conjunto_b)"
      ],
      "execution_count": null,
      "outputs": [
        {
          "output_type": "stream",
          "text": [
            "{1, 2, 3}\n",
            "{3, 4, 5}\n"
          ],
          "name": "stdout"
        }
      ]
    },
    {
      "cell_type": "code",
      "metadata": {
        "id": "8FJosUCfeGpw",
        "colab_type": "code",
        "colab": {
          "base_uri": "https://localhost:8080/",
          "height": 34
        },
        "outputId": "55842c8a-5e31-450a-9aa3-ee494dfbbac1"
      },
      "source": [
        "#uniao\n",
        "uniao = conjunto_a.union(conjunto_b)\n",
        "print(uniao)"
      ],
      "execution_count": null,
      "outputs": [
        {
          "output_type": "stream",
          "text": [
            "{1, 2, 3, 4, 5}\n"
          ],
          "name": "stdout"
        }
      ]
    },
    {
      "cell_type": "code",
      "metadata": {
        "id": "BtQqt_OYeM2k",
        "colab_type": "code",
        "colab": {
          "base_uri": "https://localhost:8080/",
          "height": 34
        },
        "outputId": "d3a34ffb-631f-4d20-a31c-cc0f4ba4e19e"
      },
      "source": [
        "#intersecao\n",
        "intersecao = conjunto_a.intersection(conjunto_b)\n",
        "print(intersecao)"
      ],
      "execution_count": null,
      "outputs": [
        {
          "output_type": "stream",
          "text": [
            "{3}\n"
          ],
          "name": "stdout"
        }
      ]
    },
    {
      "cell_type": "code",
      "metadata": {
        "id": "g75JyFTPeVjI",
        "colab_type": "code",
        "colab": {
          "base_uri": "https://localhost:8080/",
          "height": 34
        },
        "outputId": "12c948ba-5aa7-47c7-b75a-56c043404d55"
      },
      "source": [
        "#diferenca\n",
        "diference = conjunto_a.difference(conjunto_b)\n",
        "print(diference)"
      ],
      "execution_count": null,
      "outputs": [
        {
          "output_type": "stream",
          "text": [
            "{1, 2}\n"
          ],
          "name": "stdout"
        }
      ]
    },
    {
      "cell_type": "code",
      "metadata": {
        "id": "63ID0D6ce0lb",
        "colab_type": "code",
        "colab": {
          "base_uri": "https://localhost:8080/",
          "height": 34
        },
        "outputId": "b66ec946-f7bd-45e3-ce9f-c2cc43b17b46"
      },
      "source": [
        "#diferenca simetrica\n",
        "diferenca_simetrica = conjunto_a.symmetric_difference(conjunto_b)\n",
        "print(diferenca_simetrica)"
      ],
      "execution_count": null,
      "outputs": [
        {
          "output_type": "stream",
          "text": [
            "{1, 2, 4, 5}\n"
          ],
          "name": "stdout"
        }
      ]
    },
    {
      "cell_type": "code",
      "metadata": {
        "id": "LS-12hMsfEC2",
        "colab_type": "code",
        "colab": {}
      },
      "source": [
        "#Dicionarios\n",
        "#nao ordenados\n",
        "#armazena o par chave: valor\n",
        "#as chaves nao podem ser repetidas\n",
        "#podem armazenar varios tipos de valores"
      ],
      "execution_count": null,
      "outputs": []
    },
    {
      "cell_type": "code",
      "metadata": {
        "id": "NvD4c2KkffRC",
        "colab_type": "code",
        "colab": {
          "base_uri": "https://localhost:8080/",
          "height": 51
        },
        "outputId": "50054d8f-8e19-42ae-fd75-74b0037ea568"
      },
      "source": [
        "#criando um dicionario vazio\n",
        "dicionario = {}\n",
        "print(dicionario)\n",
        "type(dicionario)"
      ],
      "execution_count": null,
      "outputs": [
        {
          "output_type": "stream",
          "text": [
            "{}\n"
          ],
          "name": "stdout"
        },
        {
          "output_type": "execute_result",
          "data": {
            "text/plain": [
              "dict"
            ]
          },
          "metadata": {
            "tags": []
          },
          "execution_count": 168
        }
      ]
    },
    {
      "cell_type": "code",
      "metadata": {
        "id": "su2TOHiwfrix",
        "colab_type": "code",
        "colab": {
          "base_uri": "https://localhost:8080/",
          "height": 34
        },
        "outputId": "986bc2ba-611d-4288-ae10-3981dc132fe9"
      },
      "source": [
        "#criando um dicionario com chaves inteiras\n",
        "dicionario = {1: \"IGTI\", 2: \"BOOTCAMP\", 3: \"IGTI\"}\n",
        "print(dicionario)"
      ],
      "execution_count": null,
      "outputs": [
        {
          "output_type": "stream",
          "text": [
            "{1: 'IGTI', 2: 'BOOTCAMP', 3: 'IGTI'}\n"
          ],
          "name": "stdout"
        }
      ]
    },
    {
      "cell_type": "code",
      "metadata": {
        "id": "fKfp7tlbf8di",
        "colab_type": "code",
        "colab": {
          "base_uri": "https://localhost:8080/",
          "height": 34
        },
        "outputId": "2fd07660-e9f6-43f0-fc3c-a227c8700be1"
      },
      "source": [
        "#criando dicionario com varios tipos de chaves e valores\n",
        "dicionario = {\"escola\": \"IGTI\", 1: [1,2,3,4]}\n",
        "print(dicionario)"
      ],
      "execution_count": null,
      "outputs": [
        {
          "output_type": "stream",
          "text": [
            "{'escola': 'IGTI', 1: [1, 2, 3, 4]}\n"
          ],
          "name": "stdout"
        }
      ]
    },
    {
      "cell_type": "code",
      "metadata": {
        "id": "uICV_jbOgMzp",
        "colab_type": "code",
        "colab": {
          "base_uri": "https://localhost:8080/",
          "height": 34
        },
        "outputId": "6762f112-11b1-4c82-9e4b-af34a41ad0c2"
      },
      "source": [
        "#criando dicionarios com o dict\n",
        "dicionario = dict({1: \"IGTI\", 2: \"BOOTCAMP\", 3: \"IGTI\"})\n",
        "print(dicionario)"
      ],
      "execution_count": null,
      "outputs": [
        {
          "output_type": "stream",
          "text": [
            "{1: 'IGTI', 2: 'BOOTCAMP', 3: 'IGTI'}\n"
          ],
          "name": "stdout"
        }
      ]
    },
    {
      "cell_type": "code",
      "metadata": {
        "id": "deYHTL_8gOP3",
        "colab_type": "code",
        "colab": {
          "base_uri": "https://localhost:8080/",
          "height": 34
        },
        "outputId": "0056f4f4-1497-434b-c8be-77db534e2a84"
      },
      "source": [
        "#criando dicionarios com o estilo (chave, valor)\n",
        "dicionario = dict([(1,\"IGTI\"), (2,\"bootcamp\")])\n",
        "print(dicionario)"
      ],
      "execution_count": null,
      "outputs": [
        {
          "output_type": "stream",
          "text": [
            "{1: 'IGTI', 2: 'bootcamp'}\n"
          ],
          "name": "stdout"
        }
      ]
    },
    {
      "cell_type": "code",
      "metadata": {
        "id": "AAc7oc1JgoL9",
        "colab_type": "code",
        "colab": {
          "base_uri": "https://localhost:8080/",
          "height": 34
        },
        "outputId": "4586b6f3-a3b2-4228-f20b-d67126bb52fb"
      },
      "source": [
        "#adicionando elementos a um dicionario\n",
        "dicionario = {}\n",
        "\n",
        "#adicionando um elemento de cada vez\n",
        "dicionario[0] = \"IGTI\"\n",
        "dicionario[2] = \"BOOTCAMP\"\n",
        "dicionario[3] = 1\n",
        "print(dicionario)"
      ],
      "execution_count": null,
      "outputs": [
        {
          "output_type": "stream",
          "text": [
            "{0: 'IGTI', 2: 'BOOTCAMP', 3: 1}\n"
          ],
          "name": "stdout"
        }
      ]
    },
    {
      "cell_type": "code",
      "metadata": {
        "id": "yFl6yCzEg2qb",
        "colab_type": "code",
        "colab": {
          "base_uri": "https://localhost:8080/",
          "height": 34
        },
        "outputId": "05fd50a8-e7cb-49a1-c30f-2a85a23b90cb"
      },
      "source": [
        "#realizando a atualizacao de um elemento\n",
        "dicionario[2] = \"MBA\"\n",
        "print(dicionario)"
      ],
      "execution_count": null,
      "outputs": [
        {
          "output_type": "stream",
          "text": [
            "{0: 'IGTI', 2: 'MBA', 3: 1}\n"
          ],
          "name": "stdout"
        }
      ]
    },
    {
      "cell_type": "code",
      "metadata": {
        "id": "xexIi33lg98R",
        "colab_type": "code",
        "colab": {
          "base_uri": "https://localhost:8080/",
          "height": 34
        },
        "outputId": "3635f8db-428d-4af5-f2a1-4f7085d49128"
      },
      "source": [
        "#acessando elementos em um dicionario\n",
        "dicionario = {\"a\": \"Azul\", \"v\": \"Verde\", \"r\": \"Rosa\"}\n",
        "\n",
        "#acessando atraves da chave\n",
        "print(dicionario[\"a\"])"
      ],
      "execution_count": null,
      "outputs": [
        {
          "output_type": "stream",
          "text": [
            "Azul\n"
          ],
          "name": "stdout"
        }
      ]
    },
    {
      "cell_type": "code",
      "metadata": {
        "id": "Aad7KoU5hPq-",
        "colab_type": "code",
        "colab": {
          "base_uri": "https://localhost:8080/",
          "height": 34
        },
        "outputId": "7997c5c0-05f2-42d3-fc03-508efd9e9ca8"
      },
      "source": [
        "#acessando atraves do get()\n",
        "print(dicionario.get(\"v\"))"
      ],
      "execution_count": null,
      "outputs": [
        {
          "output_type": "stream",
          "text": [
            "Verde\n"
          ],
          "name": "stdout"
        }
      ]
    },
    {
      "cell_type": "code",
      "metadata": {
        "id": "eUJmWyO2hV75",
        "colab_type": "code",
        "colab": {
          "base_uri": "https://localhost:8080/",
          "height": 34
        },
        "outputId": "dedf3a07-1e90-4da5-c889-b91804d96398"
      },
      "source": [
        "#removendo o elemento de um dicionario\n",
        "dicionario = {1: \"IGTI\", 2: \"BOOTCAMP\", 3: \"IGTI\", \n",
        "              \"brasil\" : {\"a\": \"Azul\", \"v\": \"Verde\", \"am\": \"Amarelo\"}, \n",
        "              \"minas\" : {\"vm\": \"Vermelha\", \"b\": \"Branca\"}}\n",
        "print(dicionario)"
      ],
      "execution_count": null,
      "outputs": [
        {
          "output_type": "stream",
          "text": [
            "{1: 'IGTI', 2: 'BOOTCAMP', 3: 'IGTI', 'brasil': {'a': 'Azul', 'v': 'Verde', 'am': 'Amarelo'}, 'minas': {'vm': 'Vermelha', 'b': 'Branca'}}\n"
          ],
          "name": "stdout"
        }
      ]
    },
    {
      "cell_type": "code",
      "metadata": {
        "id": "mil3Oz8ChhjD",
        "colab_type": "code",
        "colab": {
          "base_uri": "https://localhost:8080/",
          "height": 34
        },
        "outputId": "ae5fd289-6ab6-43b9-b44f-751ea427aeff"
      },
      "source": [
        "#deletando um valor pela chave\n",
        "del dicionario[3]\n",
        "print(dicionario) "
      ],
      "execution_count": null,
      "outputs": [
        {
          "output_type": "stream",
          "text": [
            "{1: 'IGTI', 2: 'BOOTCAMP', 'brasil': {'a': 'Azul', 'v': 'Verde', 'am': 'Amarelo'}, 'minas': {'vm': 'Vermelha', 'b': 'Branca'}}\n"
          ],
          "name": "stdout"
        }
      ]
    },
    {
      "cell_type": "code",
      "metadata": {
        "id": "y6wjFxZjh9ch",
        "colab_type": "code",
        "colab": {
          "base_uri": "https://localhost:8080/",
          "height": 34
        },
        "outputId": "0c9e5947-8659-4084-b56d-5a7c0fb281b4"
      },
      "source": [
        "#deletando uma chave com pop()\n",
        "dicionario.pop(2)\n",
        "print(dicionario)"
      ],
      "execution_count": null,
      "outputs": [
        {
          "output_type": "stream",
          "text": [
            "{1: 'IGTI', 'brasil': {'a': 'Azul', 'v': 'Verde', 'am': 'Amarelo'}, 'minas': {'vm': 'Vermelha', 'b': 'Branca'}}\n"
          ],
          "name": "stdout"
        }
      ]
    },
    {
      "cell_type": "code",
      "metadata": {
        "id": "T9bfH9IJiFLm",
        "colab_type": "code",
        "colab": {
          "base_uri": "https://localhost:8080/",
          "height": 34
        },
        "outputId": "80d107dd-67c4-4a33-8d39-18468e447b90"
      },
      "source": [
        "#deletando um item arbitrario\n",
        "dicionario.popitem()\n",
        "print(dicionario)"
      ],
      "execution_count": null,
      "outputs": [
        {
          "output_type": "stream",
          "text": [
            "{1: 'IGTI', 'brasil': {'a': 'Azul', 'v': 'Verde', 'am': 'Amarelo'}}\n"
          ],
          "name": "stdout"
        }
      ]
    },
    {
      "cell_type": "code",
      "metadata": {
        "id": "mBVXt0zziJ8t",
        "colab_type": "code",
        "colab": {
          "base_uri": "https://localhost:8080/",
          "height": 34
        },
        "outputId": "330b941b-9f76-4d70-ade4-1e9693ea12f9"
      },
      "source": [
        "#deletando um dicionario inteiro\n",
        "dicionario.clear()\n",
        "print(dicionario)"
      ],
      "execution_count": null,
      "outputs": [
        {
          "output_type": "stream",
          "text": [
            "{}\n"
          ],
          "name": "stdout"
        }
      ]
    },
    {
      "cell_type": "code",
      "metadata": {
        "id": "h7JgBgCUiWKf",
        "colab_type": "code",
        "colab": {
          "base_uri": "https://localhost:8080/",
          "height": 51
        },
        "outputId": "a7162b30-7a9d-4ae0-909a-cf78f5a4f947"
      },
      "source": [
        "#Comandos de entrada de dados\n",
        "nome = input(\"Entre com o seu nome:\")\n",
        "print(\"Seu nome é: \", nome)"
      ],
      "execution_count": null,
      "outputs": [
        {
          "output_type": "stream",
          "text": [
            "Entre com o seu nome:Camila\n",
            "Seu nome é:  Camila\n"
          ],
          "name": "stdout"
        }
      ]
    },
    {
      "cell_type": "code",
      "metadata": {
        "id": "61Uw7QMZikCk",
        "colab_type": "code",
        "colab": {
          "base_uri": "https://localhost:8080/",
          "height": 34
        },
        "outputId": "39fb8b3b-c2ff-40e2-a79f-ce9cc09d0733"
      },
      "source": [
        "type(nome)\n",
        "#input sempre armazena string"
      ],
      "execution_count": null,
      "outputs": [
        {
          "output_type": "execute_result",
          "data": {
            "text/plain": [
              "str"
            ]
          },
          "metadata": {
            "tags": []
          },
          "execution_count": 193
        }
      ]
    },
    {
      "cell_type": "code",
      "metadata": {
        "id": "Lw1EwqMMinsd",
        "colab_type": "code",
        "colab": {
          "base_uri": "https://localhost:8080/",
          "height": 51
        },
        "outputId": "d634a88e-225c-4ed0-dbb8-1ff66f85ad09"
      },
      "source": [
        "idade = input(\"Entre com a sua idade:\")\n",
        "print(\"Sua idade é:\", idade)"
      ],
      "execution_count": null,
      "outputs": [
        {
          "output_type": "stream",
          "text": [
            "Entre com a sua idade:30\n",
            "Sua idade é: 30\n"
          ],
          "name": "stdout"
        }
      ]
    },
    {
      "cell_type": "code",
      "metadata": {
        "id": "5SG7yIR0iwCC",
        "colab_type": "code",
        "colab": {
          "base_uri": "https://localhost:8080/",
          "height": 34
        },
        "outputId": "26d00125-0f43-4738-a161-b4535bc177fb"
      },
      "source": [
        "type(idade)"
      ],
      "execution_count": null,
      "outputs": [
        {
          "output_type": "execute_result",
          "data": {
            "text/plain": [
              "str"
            ]
          },
          "metadata": {
            "tags": []
          },
          "execution_count": 196
        }
      ]
    },
    {
      "cell_type": "code",
      "metadata": {
        "id": "FugJ6AMWi0BW",
        "colab_type": "code",
        "colab": {
          "base_uri": "https://localhost:8080/",
          "height": 51
        },
        "outputId": "a3f7b3cb-1769-45be-baea-aea97b5ddae0"
      },
      "source": [
        "#formatando as saidas\n",
        "#realizando a entrada de dados\n",
        "base = float(input(\"Entre com um valor para a base:\"))\n",
        "expoente = float(input(\"Entre com um valor para o expoente:\"))\n",
        "resultado = base**expoente"
      ],
      "execution_count": null,
      "outputs": [
        {
          "output_type": "stream",
          "text": [
            "Entre com um valor para a base:10\n",
            "Entre com um valor para o expoente:2\n"
          ],
          "name": "stdout"
        }
      ]
    },
    {
      "cell_type": "code",
      "metadata": {
        "id": "tSqzd-QHjC8N",
        "colab_type": "code",
        "colab": {
          "base_uri": "https://localhost:8080/",
          "height": 51
        },
        "outputId": "8bafd855-6050-4125-acc2-0d596df9aeb6"
      },
      "source": [
        "print(resultado)\n",
        "print(str(base)+\"^\"+str(expoente),\"=\",resultado)"
      ],
      "execution_count": null,
      "outputs": [
        {
          "output_type": "stream",
          "text": [
            "100.0\n",
            "10.0^2.0 = 100.0\n"
          ],
          "name": "stdout"
        }
      ]
    },
    {
      "cell_type": "code",
      "metadata": {
        "id": "kTKxy3i6jSjM",
        "colab_type": "code",
        "colab": {
          "base_uri": "https://localhost:8080/",
          "height": 34
        },
        "outputId": "928a29a8-333f-4ea1-c8ab-9b14139c34f5"
      },
      "source": [
        "#especificando numero de casas decimais\n",
        "print(\"%1.2f ^%1.2f = %1.4f\" %(base, expoente,resultado))"
      ],
      "execution_count": null,
      "outputs": [
        {
          "output_type": "stream",
          "text": [
            "10.00 ^2.00 = 100.0000\n"
          ],
          "name": "stdout"
        }
      ]
    },
    {
      "cell_type": "code",
      "metadata": {
        "id": "Q5KX56kZjj56",
        "colab_type": "code",
        "colab": {
          "base_uri": "https://localhost:8080/",
          "height": 34
        },
        "outputId": "62332fb4-8381-42f5-bf7e-78c498f0d5d9"
      },
      "source": [
        "print(\" %2d, %2x, %3o, %2.2f, %2.2e \" %(100, 100, 100, 11.1245, 11.24567))"
      ],
      "execution_count": null,
      "outputs": [
        {
          "output_type": "stream",
          "text": [
            " 100, 64, 144, 11.12, 1.12e+01 \n"
          ],
          "name": "stdout"
        }
      ]
    }
  ]
}
